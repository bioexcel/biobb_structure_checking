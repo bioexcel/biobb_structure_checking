{
 "cells": [
  {
   "cell_type": "code",
   "execution_count": 1,
   "metadata": {},
   "outputs": [],
   "source": [
    "import sys\n",
    "bioexcel_dir = '/home/gelpi/DEVEL/BioExcel'"
   ]
  },
  {
   "cell_type": "code",
   "execution_count": 2,
   "metadata": {},
   "outputs": [],
   "source": [
    "base_dir = bioexcel_dir + '/structure_checking'"
   ]
  },
  {
   "cell_type": "code",
   "execution_count": 3,
   "metadata": {},
   "outputs": [],
   "source": [
    "sys.path.append(bioexcel_dir)"
   ]
  },
  {
   "cell_type": "code",
   "execution_count": 4,
   "metadata": {},
   "outputs": [],
   "source": [
    "sys.path.append(base_dir)"
   ]
  },
  {
   "cell_type": "code",
   "execution_count": 5,
   "metadata": {},
   "outputs": [],
   "source": [
    "from structure_checking.help_manager import HelpManager\n",
    "from structure_checking.structure_checking import StructureChecking\n",
    "from structure_checking.default_settings import DefaultSettings"
   ]
  },
  {
   "cell_type": "code",
   "execution_count": 6,
   "metadata": {},
   "outputs": [],
   "source": [
    "default_settings = DefaultSettings(base_dir)"
   ]
  },
  {
   "cell_type": "code",
   "execution_count": 7,
   "metadata": {},
   "outputs": [],
   "source": [
    "help = HelpManager(default_settings.help_dir_path)"
   ]
  },
  {
   "cell_type": "code",
   "execution_count": 8,
   "metadata": {},
   "outputs": [
    {
     "name": "stdout",
     "output_type": "stream",
     "text": [
      "\n",
      "MDWeb checkStruc.py performs MDWeb structure checking set as a command line\n",
      "utility.\n",
      "\n",
      "It includes some structure manipulation options like selecting models or chains,\n",
      "removing components of the system, completing missing atoms, and some quality\n",
      "checking as residue quirality, amide orientation, or vdw clashes.\n",
      "\n",
      "Usage:  checkStruc [-h|--help] command help|options \n",
      "                   -i input_pdb_path -o input_pdb_path\n",
      "\n",
      "Available commands:\n",
      "\n",
      "commands:  This help\n",
      "command_list:      Run all tests from conf file\n",
      "\n",
      "1. System Configuration \n",
      "=======================\n",
      "models     Detect/Select Models\n",
      "chains     Detect/Select Chains \n",
      "altloc     Detect/Select Alt Locations \n",
      "metals     Detect/Remove Heavy Metals\n",
      "ligands    Detect/Remove Ligands \n",
      "na         Detect/Remove/Select DNA/RNA /\n",
      "remwat     Remove Water molecules\n",
      "remh       Remove Hydrogen atoms \n",
      "\n",
      "2. Fix Structure Errors\n",
      "\n",
      "amide      Detect/Fix Amide Assignment\n",
      "quiral     Detect/Fix Improper quirality\n",
      "inscode    Detect insertion codes/Renum \n",
      "fixside    Complete side chains \n",
      "\n",
      "3. Structure Warnings\n",
      "\n",
      "getss      Detect SS Bonds \n",
      "cisbck     Unusual cis/trans backbone \n",
      "nonconres  Non Consecutive residues \n",
      "bckgaps    Detect missing residues\n",
      "clashes    Steric clashes (Severe, CA, Polar Donors, Polar Acceptors, Apolar\n",
      "           Ionic Positive, Ionic Negative)\n",
      "\n"
     ]
    }
   ],
   "source": [
    "help.print_help('general')"
   ]
  },
  {
   "cell_type": "code",
   "execution_count": 9,
   "metadata": {},
   "outputs": [],
   "source": [
    "st_check = StructureChecking(default_settings,{'Notebook':True, 'debug': False})"
   ]
  },
  {
   "cell_type": "code",
   "execution_count": 10,
   "metadata": {},
   "outputs": [
    {
     "name": "stdout",
     "output_type": "stream",
     "text": [
      "{'summary': {}, 'args': {'check_only': False, 'non_interactive': True, 'debug': False, 'Notebook': True}, 'data_library': <structure_manager.data_lib_manager.DataLibManager object at 0x7f6c68db0f98>, 'rr_dist': []}\n"
     ]
    }
   ],
   "source": [
    "print(vars(st_check))"
   ]
  },
  {
   "cell_type": "code",
   "execution_count": 11,
   "metadata": {},
   "outputs": [],
   "source": [
    "st_check.args['input_structure_path']='pdb:2ki5'\n",
    "st_check.args['notebook']= True"
   ]
  },
  {
   "cell_type": "code",
   "execution_count": 12,
   "metadata": {},
   "outputs": [
    {
     "name": "stdout",
     "output_type": "stream",
     "text": [
      "Running chains. Options: --select_chain All\n",
      "Structure exists: 'tmpPDB/ki/2ki5.cif' \n",
      "Structure pdb:2ki5 loaded\n",
      " Num. models: 1\n",
      " Num. chains: 2 (A,B)\n",
      " Num. residues:  908\n",
      " Num. residues with ins. codes:  0\n",
      " Num. HETATM residues:  296\n",
      " Num. ligand or modified residues:  4\n",
      " Num. water mol.:  292\n",
      " Num. atoms:  4961\n",
      "2 Chains detected\n",
      "  A: Protein\n",
      "  B: Protein\n",
      "Selecting all chains\n"
     ]
    }
   ],
   "source": [
    "st_check.chains(['--select_chain','All'])\n"
   ]
  },
  {
   "cell_type": "code",
   "execution_count": 13,
   "metadata": {},
   "outputs": [],
   "source": [
    "st_check.args['non_interactive']=True"
   ]
  },
  {
   "cell_type": "code",
   "execution_count": 14,
   "metadata": {},
   "outputs": [
    {
     "name": "stdout",
     "output_type": "stream",
     "text": [
      "Running altloc. Options: --select_altloc occupancy\n",
      "Detected 2 residues with alternative location labels\n",
      "AC2 A1:\n",
      "  C3'  A (1.00) B (0.01)\n",
      "  O3'  A (1.00) B (0.01)\n",
      "  C2'  A (1.00) B (0.01)\n",
      "  O1'  A (1.00) B (0.01)\n",
      "  C1'  A (1.00) B (0.01)\n",
      "Selecting location occupancy\n"
     ]
    }
   ],
   "source": [
    "st_check.altloc(['--select_altloc','occupancy'])"
   ]
  },
  {
   "cell_type": "code",
   "execution_count": 15,
   "metadata": {},
   "outputs": [
    {
     "name": "stdout",
     "output_type": "stream",
     "text": [
      " Num. models: 1\n",
      " Num. chains: 2 (A,B)\n",
      " Num. residues:  908\n",
      " Num. residues with ins. codes:  0\n",
      " Num. HETATM residues:  296\n",
      " Num. ligand or modified residues:  4\n",
      " Num. water mol.:  292\n",
      " Num. atoms:  4961\n"
     ]
    }
   ],
   "source": [
    "st_check.print_stats()"
   ]
  },
  {
   "cell_type": "code",
   "execution_count": 33,
   "metadata": {},
   "outputs": [
    {
     "name": "stdout",
     "output_type": "stream",
     "text": [
      "Running ligands. Options: --remove None\n",
      "4 Ligands detected \n",
      "SO4 A4\n",
      "AC2 A1\n",
      "SO4 B3\n",
      "AC2 B2\n",
      "Nothing to do\n"
     ]
    }
   ],
   "source": [
    "st_check.ligands(['--remove','None'])"
   ]
  },
  {
   "cell_type": "code",
   "execution_count": 32,
   "metadata": {},
   "outputs": [
    {
     "name": "stdout",
     "output_type": "stream",
     "text": [
      "Running amide. Options: --fix None\n"
     ]
    }
   ],
   "source": [
    "st_check.amide(['--fix', 'None'])"
   ]
  },
  {
   "cell_type": "code",
   "execution_count": 18,
   "metadata": {},
   "outputs": [],
   "source": [
    "import nglview as nv\n"
   ]
  },
  {
   "cell_type": "code",
   "execution_count": 19,
   "metadata": {},
   "outputs": [],
   "source": [
    "from nglview.datafiles import PDB"
   ]
  },
  {
   "cell_type": "code",
   "execution_count": 27,
   "metadata": {},
   "outputs": [
    {
     "name": "stdout",
     "output_type": "stream",
     "text": [
      "nglview version = 1.1.6\n"
     ]
    }
   ],
   "source": [
    "print(\"nglview version = {}\".format(nv.__version__))"
   ]
  },
  {
   "cell_type": "code",
   "execution_count": 21,
   "metadata": {},
   "outputs": [],
   "source": [
    "st_check.args['output_structure_path']='test.pdb'"
   ]
  },
  {
   "cell_type": "code",
   "execution_count": 22,
   "metadata": {},
   "outputs": [],
   "source": [
    "st_check._save_structure()"
   ]
  },
  {
   "cell_type": "code",
   "execution_count": 23,
   "metadata": {},
   "outputs": [],
   "source": [
    "import pytraj as pt\n"
   ]
  },
  {
   "cell_type": "code",
   "execution_count": 26,
   "metadata": {},
   "outputs": [],
   "source": [
    "traj = pt.load('test.pdb')"
   ]
  },
  {
   "cell_type": "raw",
   "metadata": {},
   "source": [
    "st_check.ligands(['',''])\n"
   ]
  },
  {
   "cell_type": "code",
   "execution_count": 40,
   "metadata": {},
   "outputs": [
    {
     "name": "stdout",
     "output_type": "stream",
     "text": [
      "Running fixside: Options \n",
      "6 Residues with missing side chain atoms found\n",
      "MET A46    CG,SD,CE\n",
      "PRO A154   CG,CD\n",
      "PRO A280   CG,CD\n",
      "MET B46    CG,SD,CE\n",
      "PRO B154   CG,CD\n",
      "ARG B220   CG,CD,NE,CZ,NH1,NH2\n",
      "Invalid option \n"
     ]
    },
    {
     "data": {
      "text/plain": [
       "1"
      ]
     },
     "execution_count": 40,
     "metadata": {},
     "output_type": "execute_result"
    }
   ],
   "source": [
    "st_check.fixside('')"
   ]
  },
  {
   "cell_type": "code",
   "execution_count": 42,
   "metadata": {},
   "outputs": [
    {
     "data": {
      "application/vnd.jupyter.widget-view+json": {
       "model_id": "d39c1ae0ec1c4de1ac4a9e7a41c3be5d",
       "version_major": 2,
       "version_minor": 0
      },
      "text/plain": [
       "NGLWidget()"
      ]
     },
     "metadata": {},
     "output_type": "display_data"
    }
   ],
   "source": [
    "import nglview as nv\n",
    "view = nv.show_pdbid(\"2ki5\")\n",
    "view"
   ]
  },
  {
   "cell_type": "code",
   "execution_count": 49,
   "metadata": {},
   "outputs": [
    {
     "name": "stdout",
     "output_type": "stream",
     "text": [
      "nglview version = 1.1.6\n",
      "pytraj version = 2.0.3\n"
     ]
    }
   ],
   "source": [
    "import pytraj as pt\n",
    "import nglview as nv\n",
    "\n",
    "print(\"nglview version = {}\".format(nv.__version__))\n",
    "print(\"pytraj version = {}\".format(pt.__version__))"
   ]
  },
  {
   "cell_type": "code",
   "execution_count": 51,
   "metadata": {},
   "outputs": [],
   "source": [
    "st_check.args['output_structure_path']='/home/gelpi/test.pdb'"
   ]
  },
  {
   "cell_type": "code",
   "execution_count": 52,
   "metadata": {},
   "outputs": [],
   "source": [
    "st_check._save_structure()"
   ]
  },
  {
   "cell_type": "code",
   "execution_count": 39,
   "metadata": {},
   "outputs": [
    {
     "data": {
      "application/vnd.jupyter.widget-view+json": {
       "model_id": "66542cb007754cb390f9c59a4993a48f",
       "version_major": 2,
       "version_minor": 0
      },
      "text/plain": [
       "NGLWidget()"
      ]
     },
     "metadata": {},
     "output_type": "display_data"
    }
   ],
   "source": [
    "traj = pt.load(st_check.args['output_structure_path'])\n",
    "view = nv.show_pytraj(traj)\n",
    "view"
   ]
  }
 ],
 "metadata": {
  "kernelspec": {
   "display_name": "Python 3",
   "language": "python",
   "name": "python3"
  },
  "language_info": {
   "codemirror_mode": {
    "name": "ipython",
    "version": 3
   },
   "file_extension": ".py",
   "mimetype": "text/x-python",
   "name": "python",
   "nbconvert_exporter": "python",
   "pygments_lexer": "ipython3",
   "version": "3.4.3"
  }
 },
 "nbformat": 4,
 "nbformat_minor": 2
}
