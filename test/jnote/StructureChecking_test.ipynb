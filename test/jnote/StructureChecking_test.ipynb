{
 "cells": [
  {
   "cell_type": "markdown",
   "metadata": {},
   "source": [
    "# Test notebook for structure checking"
   ]
  },
  {
   "cell_type": "markdown",
   "metadata": {},
   "source": [
    "#### Setting python paths"
   ]
  },
  {
   "cell_type": "code",
   "execution_count": 1,
   "metadata": {},
   "outputs": [],
   "source": [
    "import sys\n",
    "bioexcel_dir = '/home/gelpi/DEVEL/BioExcel'\n",
    "base_dir = bioexcel_dir+'/structureChecking'\n",
    "sys.path.append(bioexcel_dir)\n",
    "sys.path.append(base_dir)"
   ]
  },
  {
   "cell_type": "code",
   "execution_count": 2,
   "metadata": {},
   "outputs": [
    {
     "name": "stdout",
     "output_type": "stream",
     "text": [
      "['', '/home/soft/anaconda3/lib/python36.zip', '/home/soft/anaconda3/lib/python3.6', '/home/soft/anaconda3/lib/python3.6/lib-dynload', '/home/soft/anaconda3/lib/python3.6/site-packages', '/home/soft/anaconda3/lib/python3.6/site-packages/IPython/extensions', '/home/gelpi/.ipython', '/home/gelpi/DEVEL/BioExcel', '/home/gelpi/DEVEL/BioExcel/structureChecking']\n"
     ]
    }
   ],
   "source": [
    "import sys\n",
    "print(sys.path)"
   ]
  },
  {
   "cell_type": "markdown",
   "metadata": {},
   "source": [
    "#### Basic imports"
   ]
  },
  {
   "cell_type": "code",
   "execution_count": 3,
   "metadata": {},
   "outputs": [],
   "source": [
    "from structure_checking.help_manager import HelpManager\n",
    "from structure_checking.structure_checking import StructureChecking\n",
    "from structure_checking.default_settings import DefaultSettings"
   ]
  },
  {
   "cell_type": "markdown",
   "metadata": {},
   "source": [
    "Setting input pdb and basic command line options"
   ]
  },
  {
   "cell_type": "code",
   "execution_count": 4,
   "metadata": {},
   "outputs": [],
   "source": [
    "args={'input_structure_path':'pdb:1ubq', 'output_structure_path':'temp_test.pdb', 'Notebook':True, 'debug':False}\n",
    "\n",
    "def_sets = DefaultSettings(base_dir)\n",
    "help = HelpManager(def_sets.help_dir_path)"
   ]
  },
  {
   "cell_type": "markdown",
   "metadata": {},
   "source": [
    "General help"
   ]
  },
  {
   "cell_type": "code",
   "execution_count": 5,
   "metadata": {},
   "outputs": [
    {
     "name": "stdout",
     "output_type": "stream",
     "text": [
      "\n",
      "MDWeb checkStruc.py performs MDWeb structure checking set as a command line\n",
      "utility.\n",
      "\n",
      "It includes some structure manipulation options like selecting models or chains,\n",
      "removing components of the system, completing missing atoms, and some quality\n",
      "checking as residue quirality, amide orientation, or vdw clashes.\n",
      "\n",
      "Usage:  checkStruc [-h|--help] command help|options \n",
      "                   -i input_pdb_path -o input_pdb_path\n",
      "\n",
      "Available commands:\n",
      "\n",
      "commands:  This help\n",
      "command_list:      Run all tests from conf file\n",
      "\n",
      "1. System Configuration \n",
      "=======================\n",
      "models     Detect/Select Models\n",
      "chains     Detect/Select Chains \n",
      "altloc     Detect/Select Alt Locations \n",
      "metals     Detect/Remove Heavy Metals\n",
      "ligands    Detect/Remove Ligands \n",
      "na         Detect/Remove/Select DNA/RNA /\n",
      "remwat     Remove Water molecules\n",
      "remh       Remove Hydrogen atoms \n",
      "\n",
      "2. Fix Structure Errors\n",
      "\n",
      "amide      Detect/Fix Amide Assignment\n",
      "quiral     Detect/Fix Improper quirality\n",
      "inscode    Detect insertion codes/Renum \n",
      "fixside    Complete side chains \n",
      "\n",
      "3. Structure Warnings\n",
      "\n",
      "getss      Detect SS Bonds \n",
      "cisbck     Unusual cis/trans backbone \n",
      "nonconres  Non Consecutive residues \n",
      "bckgaps    Detect missing residues\n",
      "clashes    Steric clashes (Severe, CA, Polar Donors, Polar Acceptors, Apolar\n",
      "           Ionic Positive, Ionic Negative)\n",
      "\n"
     ]
    }
   ],
   "source": [
    "help.print_help('general')"
   ]
  },
  {
   "cell_type": "markdown",
   "metadata": {},
   "source": [
    "Loading structure and showing statistics"
   ]
  },
  {
   "cell_type": "code",
   "execution_count": 6,
   "metadata": {},
   "outputs": [
    {
     "name": "stdout",
     "output_type": "stream",
     "text": [
      "Structure exists: 'tmpPDB/ub/1ubq.cif' \n",
      "Structure pdb:1ubq loaded\n",
      " Num. models: 1\n",
      " Num. chains: 1 (A)\n",
      " Num. residues:  134\n",
      " Num. residues with ins. codes:  0\n",
      " Num. HETATM residues:  58\n",
      " Num. ligand or modified residues:  0\n",
      " Num. water mol.:  58\n",
      " Num. atoms:  660\n"
     ]
    }
   ],
   "source": [
    "st_c = StructureChecking(def_sets,args)\n",
    "st_c.print_stats()"
   ]
  },
  {
   "cell_type": "code",
   "execution_count": 8,
   "metadata": {},
   "outputs": [
    {
     "name": "stdout",
     "output_type": "stream",
     "text": [
      "Running models. Options: \n",
      "1 Model(s) detected\n",
      "Nothing to do\n"
     ]
    }
   ],
   "source": [
    "st_c.models('')"
   ]
  },
  {
   "cell_type": "code",
   "execution_count": 9,
   "metadata": {},
   "outputs": [
    {
     "name": "stdout",
     "output_type": "stream",
     "text": [
      "Running chains. Options: \n",
      "1 Chains detected\n",
      "  A: Protein\n",
      "Nothing to do\n"
     ]
    }
   ],
   "source": [
    "st_c.chains('')"
   ]
  },
  {
   "cell_type": "code",
   "execution_count": 10,
   "metadata": {},
   "outputs": [
    {
     "name": "stdout",
     "output_type": "stream",
     "text": [
      "Running altloc. Options: \n",
      "No residues with alternative location labels detected\n"
     ]
    }
   ],
   "source": [
    "st_c.altloc('')"
   ]
  },
  {
   "cell_type": "code",
   "execution_count": 11,
   "metadata": {},
   "outputs": [
    {
     "name": "stdout",
     "output_type": "stream",
     "text": [
      "Running metals. Options: \n",
      "No metal ions found\n"
     ]
    }
   ],
   "source": [
    "st_c.metals('')"
   ]
  },
  {
   "cell_type": "code",
   "execution_count": 12,
   "metadata": {},
   "outputs": [
    {
     "name": "stdout",
     "output_type": "stream",
     "text": [
      "Running ligands. Options: \n",
      "No ligands detected\n"
     ]
    }
   ],
   "source": [
    "st_c.ligands('')"
   ]
  },
  {
   "cell_type": "code",
   "execution_count": 13,
   "metadata": {},
   "outputs": [
    {
     "name": "stdout",
     "output_type": "stream",
     "text": [
      "Running remh. Options: \n",
      "No residues with hydrogen atoms detected\n"
     ]
    }
   ],
   "source": [
    "st_c.remh('')"
   ]
  },
  {
   "cell_type": "code",
   "execution_count": null,
   "metadata": {},
   "outputs": [],
   "source": [
    "st_c.remwat('')"
   ]
  },
  {
   "cell_type": "code",
   "execution_count": null,
   "metadata": {},
   "outputs": [],
   "source": [
    "st_c.remwat(['--remove','Yes'])"
   ]
  },
  {
   "cell_type": "code",
   "execution_count": 14,
   "metadata": {},
   "outputs": [
    {
     "name": "stdout",
     "output_type": "stream",
     "text": [
      "Running amide. Options: \n",
      "1 unusual contact(s) involving amide atoms found\n",
      " ARG A42.NE   GLN A49.NE2     2.750 A\n",
      "Warning: unknown option \n"
     ]
    },
    {
     "data": {
      "text/plain": [
       "1"
      ]
     },
     "execution_count": 14,
     "metadata": {},
     "output_type": "execute_result"
    }
   ],
   "source": [
    "st_c.amide('')"
   ]
  },
  {
   "cell_type": "code",
   "execution_count": null,
   "metadata": {},
   "outputs": [],
   "source": [
    "st_c.amide(['--fix','All'])"
   ]
  },
  {
   "cell_type": "code",
   "execution_count": null,
   "metadata": {},
   "outputs": [],
   "source": [
    "st_c.amide(['--fix','All'])"
   ]
  },
  {
   "cell_type": "code",
   "execution_count": null,
   "metadata": {},
   "outputs": [],
   "source": [
    "st_c.chiral('')"
   ]
  },
  {
   "cell_type": "code",
   "execution_count": null,
   "metadata": {},
   "outputs": [],
   "source": [
    "st_c.fixside('')"
   ]
  },
  {
   "cell_type": "code",
   "execution_count": null,
   "metadata": {},
   "outputs": [],
   "source": [
    "st_c.getss('')"
   ]
  },
  {
   "cell_type": "code",
   "execution_count": null,
   "metadata": {},
   "outputs": [],
   "source": [
    "st_c.clashes('')"
   ]
  },
  {
   "cell_type": "code",
   "execution_count": null,
   "metadata": {},
   "outputs": [],
   "source": [
    "st_c.print_stats()"
   ]
  },
  {
   "cell_type": "code",
   "execution_count": null,
   "metadata": {},
   "outputs": [],
   "source": [
    "st_c.calc_stats()"
   ]
  },
  {
   "cell_type": "code",
   "execution_count": null,
   "metadata": {},
   "outputs": [],
   "source": []
  }
 ],
 "metadata": {
  "kernelspec": {
   "display_name": "Python 3",
   "language": "python",
   "name": "python3"
  },
  "language_info": {
   "codemirror_mode": {
    "name": "ipython",
    "version": 3
   },
   "file_extension": ".py",
   "mimetype": "text/x-python",
   "name": "python",
   "nbconvert_exporter": "python",
   "pygments_lexer": "ipython3",
   "version": "3.6.5"
  }
 },
 "nbformat": 4,
 "nbformat_minor": 2
}
