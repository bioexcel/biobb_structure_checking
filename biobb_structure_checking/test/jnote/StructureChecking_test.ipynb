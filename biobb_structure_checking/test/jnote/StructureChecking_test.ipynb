{
 "cells": [
  {
   "cell_type": "markdown",
   "metadata": {},
   "source": [
    "# Test notebook for structure checking\n",
    "\n",
    "A complete checking analysis of a single structure follows."
   ]
  },
  {
   "cell_type": "markdown",
   "metadata": {},
   "source": [
    "#### Setting python paths"
   ]
  },
  {
   "cell_type": "code",
   "execution_count": 1,
   "metadata": {},
   "outputs": [],
   "source": [
    "import sys\n",
    "bioexcel_dir = '/data/DEVEL/BioExcel'\n",
    "base_dir = bioexcel_dir+'/structure_checking'\n",
    "sys.path.append(base_dir)\n",
    "sys.path.append(bioexcel_dir)\n"
   ]
  },
  {
   "cell_type": "markdown",
   "metadata": {},
   "source": [
    "#### Basic imports"
   ]
  },
  {
   "cell_type": "code",
   "execution_count": 2,
   "metadata": {},
   "outputs": [],
   "source": [
    "from structure_checking.help_manager import HelpManager\n",
    "from structure_checking.structure_checking import StructureChecking\n",
    "from structure_checking.default_settings import DefaultSettings"
   ]
  },
  {
   "cell_type": "markdown",
   "metadata": {},
   "source": [
    "Setting default data"
   ]
  },
  {
   "cell_type": "code",
   "execution_count": 3,
   "metadata": {},
   "outputs": [],
   "source": [
    "def_sets = DefaultSettings(base_dir)\n",
    "help = HelpManager(def_sets.help_dir_path)\n",
    "args={'Notebook':True, 'debug':False}"
   ]
  },
  {
   "cell_type": "markdown",
   "metadata": {},
   "source": [
    "General help"
   ]
  },
  {
   "cell_type": "code",
   "execution_count": 4,
   "metadata": {},
   "outputs": [
    {
     "name": "stdout",
     "output_type": "stream",
     "text": [
      "\n",
      "MDWeb checkStruc.py performs MDWeb structure checking set as a command line\n",
      "utility.\n",
      "\n",
      "It includes some structure manipulation options like selecting models or chains,\n",
      "removing components of the system, completing missing atoms, and some quality\n",
      "checking as residue quirality, amide orientation, or vdw clashes.\n",
      "\n",
      "Usage:  checkStruc [-h|--help] command help|options \n",
      "                   -i input_pdb_path -o input_pdb_path\n",
      "\n",
      "Missing parameters will be prompted in interactive sessions\n",
      "\n",
      "Available commands:\n",
      "\n",
      "commands:  This help\n",
      "command_list:      Run all tests from conf file\n",
      "\n",
      "\n",
      "1. System Configuration \n",
      "=======================\n",
      "models [--select_model model_num]     \n",
      "    Detect/Select Models\n",
      "chains [--select_chains chain_ids]    \n",
      "    Detect/Select Chains \n",
      "altloc [--select_altloc occupancy| alt_id | list of res_id:alt_id]\n",
      "    Detect/Select Alternative Locations \n",
      "metals [--remove All | None | Met_ids_list | Residue_list]   \n",
      "    Detect/Remove Metals \n",
      "ligands [--remove All | None | Res_type_list | Residue_list]\n",
      "    Detect/Remove Ligands \n",
      "remwat [--remove Yes|No]\n",
      "    Remove Water molecules\n",
      "remh [remh --remove Yes|No]\n",
      "    Remove Hydrogen atoms from structure \n",
      "\n",
      "2. Fix Structure Errors\n",
      "\n",
      "amide  [--fix All|None|Residue List]    \n",
      "    Detect/Fix Amide atoms Assignment\n",
      "chiral [--fix All|None|Residue List]\n",
      "    Detect/Fix Improper quirality\n",
      "fixside [--fix All |None|Residue List]    \n",
      "    Complete side chains \n",
      "\n",
      "3. Structure Warnings\n",
      "\n",
      "getss      Detect SS Bonds \n",
      "cisbck     Unusual cis/trans backbone \n",
      "nonconres  Non Consecutive residues \n",
      "bckgaps    Detect missing residues\n",
      "clashes    Steric clashes (Severe, Apolar, Polar Donors, Polar Acceptors, \n",
      "           Ionic Positive, Ionic Negative)\n",
      "\n"
     ]
    }
   ],
   "source": [
    "help.print_help('general')"
   ]
  },
  {
   "cell_type": "markdown",
   "metadata": {},
   "source": [
    "Set input (PDB or local file, pdb or mmCif formats allowed) and output (local file, pdb format).  \n",
    "Use pdb:pdbid for downloading structure from PDB (RCSB)"
   ]
  },
  {
   "cell_type": "code",
   "execution_count": 5,
   "metadata": {},
   "outputs": [],
   "source": [
    "args['input_structure_path'] ='pdb:1ark'\n",
    "args['output_structure_path']='temp.pdb'"
   ]
  },
  {
   "cell_type": "markdown",
   "metadata": {},
   "source": [
    "Initializing checking engine"
   ]
  },
  {
   "cell_type": "code",
   "execution_count": 6,
   "metadata": {},
   "outputs": [
    {
     "name": "stdout",
     "output_type": "stream",
     "text": [
      "Structure exists: 'tmpPDB/ar/1ark.cif' \n",
      "Structure pdb:1ark loaded\n",
      " Num. models: 15\n",
      " Num. chains: 1 (A)\n",
      " Num. residues:  900\n",
      " Num. residues with ins. codes:  0\n",
      " Num. HETATM residues:  0\n",
      " Num. ligand or modified residues:  0\n",
      " Num. water mol.:  0\n",
      " Num. atoms:  13575\n"
     ]
    }
   ],
   "source": [
    "st_c = StructureChecking(def_sets,args)\n",
    "st_c.print_stats()"
   ]
  },
  {
   "cell_type": "markdown",
   "metadata": {},
   "source": [
    "Loading structure and showing statistics"
   ]
  },
  {
   "cell_type": "markdown",
   "metadata": {},
   "source": [
    "#### models\n",
    "Checks for the presence of models in the structure. \n",
    "MD simulations require a single structure, although some structures (e.g. biounits) may be defined as a series of models, in such case all of them are usually required.  \n",
    "Use models('N') to select model num N for further analysis"
   ]
  },
  {
   "cell_type": "code",
   "execution_count": 7,
   "metadata": {},
   "outputs": [
    {
     "name": "stdout",
     "output_type": "stream",
     "text": [
      "Running models. Options: 1 \n",
      "15 Model(s) detected\n",
      "Models do not superimpose, RMSd:   35.032 A, guessed as Biounit type\n",
      "Selecting model num. 1\n"
     ]
    }
   ],
   "source": [
    "st_c.models('1')"
   ]
  },
  {
   "cell_type": "markdown",
   "metadata": {},
   "source": [
    "#### chains\n",
    "Checks for chains (also obtained from print_stats), and allow to select one or more.   \n",
    "MD simulations are usually performed with complete structures. However input structure may contain several copies of the system, or contains additional chains like peptides or nucleic acids that may be removed. \n",
    "Use chains('X,Y') to select chain(s) X and Y to proceed"
   ]
  },
  {
   "cell_type": "code",
   "execution_count": 8,
   "metadata": {},
   "outputs": [
    {
     "name": "stdout",
     "output_type": "stream",
     "text": [
      "Running chains.\n",
      "1 Chains detected\n",
      "  A: Protein\n",
      "Running  check_only. Nothing else to do.\n"
     ]
    }
   ],
   "source": [
    "st_c.chains()"
   ]
  },
  {
   "cell_type": "markdown",
   "metadata": {},
   "source": [
    "#### altloc\n",
    "Checks for the presence of residues with alternative locations. Atoms with alternative coordinates and their occupancy are reported.  \n",
    "MD simulations requires a single position for each atom.  \n",
    "Use altloc('occupancy | alt_ids | list of res:id) to select the alternative\n"
   ]
  },
  {
   "cell_type": "code",
   "execution_count": 9,
   "metadata": {},
   "outputs": [
    {
     "name": "stdout",
     "output_type": "stream",
     "text": [
      "Running altloc.\n",
      "No residues with alternative location labels detected\n",
      "Running  check_only. Nothing else to do.\n"
     ]
    }
   ],
   "source": [
    "st_c.altloc()"
   ]
  },
  {
   "cell_type": "markdown",
   "metadata": {},
   "source": [
    "#### metals\n",
    "Detects HETATM being metal ions allow to selectively remove them.  \n",
    "To remove use metals (' All | None | metal_type list | residue list ')"
   ]
  },
  {
   "cell_type": "code",
   "execution_count": 10,
   "metadata": {},
   "outputs": [
    {
     "name": "stdout",
     "output_type": "stream",
     "text": [
      "Running metals.\n",
      "No metal ions present\n",
      "Running  check_only. Nothing else to do.\n"
     ]
    }
   ],
   "source": [
    "st_c.metals()"
   ]
  },
  {
   "cell_type": "markdown",
   "metadata": {},
   "source": [
    "#### ligands\n",
    "Detects HETATM (excluding Water molecules) to selectively remove them.  \n",
    "To remove use ligands('All | None | Residue List (by id, by num)')\n"
   ]
  },
  {
   "cell_type": "code",
   "execution_count": 11,
   "metadata": {},
   "outputs": [
    {
     "name": "stdout",
     "output_type": "stream",
     "text": [
      "Running ligands.\n",
      "No ligands found\n",
      "Running  check_only. Nothing else to do.\n"
     ]
    }
   ],
   "source": [
    "st_c.ligands()"
   ]
  },
  {
   "cell_type": "markdown",
   "metadata": {},
   "source": [
    "#### remh\n",
    "Detects and remove hydrogen atoms. \n",
    "MD setup can be done with the original H atoms, however to prevent from non standard labelling, remove them is safer.  \n",
    "To remove use remh('yes')\n"
   ]
  },
  {
   "cell_type": "code",
   "execution_count": 12,
   "metadata": {},
   "outputs": [
    {
     "name": "stdout",
     "output_type": "stream",
     "text": [
      "Running remh.\n",
      "60 Residues containing H atoms detected\n",
      "Running  check_only. Nothing else to do.\n"
     ]
    }
   ],
   "source": [
    "st_c.remh()"
   ]
  },
  {
   "cell_type": "markdown",
   "metadata": {},
   "source": [
    "#### remwat\n",
    "Detects water molecules and allows to remove them\n",
    "Crystallographic water molecules may be relevant for keeping the structure, however in most cases only some of them are required. These can be later added using other methods (titration) or manually.\n",
    "\n",
    "To remove water molecules use remwat('yes')\n"
   ]
  },
  {
   "cell_type": "code",
   "execution_count": 13,
   "metadata": {},
   "outputs": [
    {
     "name": "stdout",
     "output_type": "stream",
     "text": [
      "Running remwat.\n",
      "No water molecules found\n",
      "Running  check_only. Nothing else to do.\n"
     ]
    }
   ],
   "source": [
    "st_c.remwat()"
   ]
  },
  {
   "cell_type": "markdown",
   "metadata": {},
   "source": [
    "#### amide\n",
    "Amide terminal atoms in Asn ang Gln residues can be labelled incorrectly.  \n",
    "amide suggests possible fixes by checking the sourrounding environent.\n",
    "\n",
    "To fix use amide ('All | None | residue_list')\n",
    "\n",
    "Note that the inversion of amide atoms may trigger additional contacts. "
   ]
  },
  {
   "cell_type": "code",
   "execution_count": 14,
   "metadata": {},
   "outputs": [
    {
     "name": "stdout",
     "output_type": "stream",
     "text": [
      "Running amide.\n",
      "1 unusual contact(s) involving amide atoms found\n",
      " ASN A30.OD1  GLN A32.O       2.598 A\n",
      "Running  check_only. Nothing else to do.\n"
     ]
    }
   ],
   "source": [
    "st_c.amide()"
   ]
  },
  {
   "cell_type": "markdown",
   "metadata": {},
   "source": [
    "#### chiral\n",
    "Side chains of Thr and Ile are chiral, incorrect atom labelling lead to the wrong chirality.  \n",
    "To fix use chiral('All | None | residue_list')"
   ]
  },
  {
   "cell_type": "code",
   "execution_count": 15,
   "metadata": {},
   "outputs": [
    {
     "name": "stdout",
     "output_type": "stream",
     "text": [
      "Running chiral.\n",
      "No residues with incorrent side-chain chirality found\n",
      "Running  check_only. Nothing else to do.\n"
     ]
    }
   ],
   "source": [
    "st_c.chiral()"
   ]
  },
  {
   "cell_type": "markdown",
   "metadata": {},
   "source": [
    "#### fixside\n",
    "Detects and re-built missing protein side chains.   \n",
    "To fix use fixside('All | None | residue_list')"
   ]
  },
  {
   "cell_type": "code",
   "execution_count": 16,
   "metadata": {},
   "outputs": [
    {
     "name": "stdout",
     "output_type": "stream",
     "text": [
      "Running fixside.\n",
      "No residues with missing side chain atoms found\n",
      "Running  check_only. Nothing else to do.\n"
     ]
    }
   ],
   "source": [
    "st_c.fixside()"
   ]
  },
  {
   "cell_type": "markdown",
   "metadata": {},
   "source": [
    "#### getss\n",
    "Detects possible -S-S- bonds based on distance criteria.\n",
    "Proper simulation requires those bonds to be correctly set."
   ]
  },
  {
   "cell_type": "code",
   "execution_count": 17,
   "metadata": {},
   "outputs": [
    {
     "name": "stdout",
     "output_type": "stream",
     "text": [
      "Running getss.\n",
      "No SS bonds detected\n",
      "Running  check_only. Nothing else to do.\n"
     ]
    }
   ],
   "source": [
    "st_c.getss()"
   ]
  },
  {
   "cell_type": "markdown",
   "metadata": {},
   "source": [
    "#### clashes\n",
    "Detects steric clashes based on distance criteria.  \n",
    "Contacts are classified in: \n",
    "* Severe: Too close atoms, usually indicating superimposed structures or badly modelled regions. Should be fixed.\n",
    "* Apolar: Vdw colissions.Usually fixed during the simulation.\n",
    "* Polar and ionic. Usually indicate wrong side chain conformations. Usually fixed during the simulation\n"
   ]
  },
  {
   "cell_type": "code",
   "execution_count": 18,
   "metadata": {},
   "outputs": [
    {
     "name": "stdout",
     "output_type": "stream",
     "text": [
      "Running clashes.\n",
      "No severe clashes detected\n",
      "4 Steric apolar clashes detected\n",
      " MET A9.CE    GLU A58.OE2     2.695 A\n",
      " GLU A19.OE2  TRP A38.CZ3     2.645 A\n",
      " TYR A40.CD1  GLY A50.O       2.794 A\n",
      " THR A42.OG1  THR A49.CG2     2.788 A\n",
      "4 Steric acceptor clashes detected\n",
      " MET A9.O     ASP A24.OD2     2.851 A\n",
      " TYR A10.O    PHE A22.O       3.006 A\n",
      " ASN A30.OD1  GLN A32.O       2.598 A\n",
      " MET A39.O    MET A51.SD      2.999 A\n",
      "No donor clashes detected\n",
      "No positive clashes detected\n",
      "No negative clashes detected\n",
      "Running  check_only. Nothing else to do.\n"
     ]
    }
   ],
   "source": [
    "st_c.clashes()"
   ]
  }
 ],
 "metadata": {
  "kernelspec": {
   "display_name": "Python 3",
   "language": "python",
   "name": "python3"
  },
  "language_info": {
   "codemirror_mode": {
    "name": "ipython",
    "version": 3
   },
   "file_extension": ".py",
   "mimetype": "text/x-python",
   "name": "python",
   "nbconvert_exporter": "python",
   "pygments_lexer": "ipython3",
   "version": "3.4.6"
  }
 },
 "nbformat": 4,
 "nbformat_minor": 2
}
