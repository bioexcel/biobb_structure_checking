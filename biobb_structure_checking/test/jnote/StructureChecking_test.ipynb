{
 "cells": [
  {
   "cell_type": "markdown",
   "metadata": {},
   "source": [
    "# Test notebook for structure checking\n",
    "\n",
    "A complete checking analysis of a single structure follows.\n",
    "use .revert_changes() to recover the original structure"
   ]
  },
  {
   "cell_type": "markdown",
   "metadata": {},
   "source": [
    "#### Setting python paths"
   ]
  },
  {
   "cell_type": "markdown",
   "metadata": {},
   "source": [
    "#### Basic imports"
   ]
  },
  {
   "cell_type": "code",
   "execution_count": 1,
   "metadata": {},
   "outputs": [],
   "source": [
    "import nglview as nv\n",
    "import biobb_structure_checking\n",
    "import biobb_structure_checking.constants as cts\n",
    "from biobb_structure_checking.structure_checking import StructureChecking\n",
    "base_dir_path=biobb_structure_checking.__path__[0]\n"
   ]
  },
  {
   "cell_type": "markdown",
   "metadata": {},
   "source": [
    "Setting default data and paths"
   ]
  },
  {
   "cell_type": "code",
   "execution_count": 2,
   "metadata": {},
   "outputs": [],
   "source": [
    "args = cts.set_defaults(base_dir_path,{'notebook':True})"
   ]
  },
  {
   "cell_type": "markdown",
   "metadata": {},
   "source": [
    "General help"
   ]
  },
  {
   "cell_type": "code",
   "execution_count": 3,
   "metadata": {},
   "outputs": [
    {
     "name": "stdout",
     "output_type": "stream",
     "text": [
      "\n",
      "BioBB's check_structure.py performs MDWeb structure checking set as a command line\n",
      "utility.\n",
      "\n",
      "commands:     Help on available commands\n",
      "command_list: Run all tests from conf file\n",
      "checkall:     Perform all checks without fixes\n",
      "fixall:       Performs a default fix (v1.1)\n",
      "load:         Stores structure on local cache and provide basic statistics\n",
      "\n",
      "1. System Configuration\n",
      "=======================\n",
      "models [--select model_num]\n",
      "    Detect/Select Models\n",
      "chains [--select chain_ids]\n",
      "    Detect/Select Chains\n",
      "inscodes [--renum]\n",
      "    Detects residues with insertion codes. --renum (v1.1) renumbers residues\n",
      "altloc [--select occupancy| alt_id | list of res_id:alt_id]\n",
      "    Detect/Select Alternative Locations\n",
      "metals [--remove All | None | Met_ids_list | Residue_list]\n",
      "    Detect/Remove Metals\n",
      "ligands [--remove All | None | Res_type_list | Residue_list]\n",
      "    Detect/Remove Ligands\n",
      "hetatm [--remove All | None | Res_type_list | Residue_list] (v1.1)\n",
      "    Detect/Remove Ligands, revert modified residues\n",
      "water [--remove Yes|No]\n",
      "    Remove Water molecules\n",
      "rem_hydrogen [--remove Yes|No]\n",
      "    Remove Hydrogen atoms from structure\n",
      "mutateside [--mut mutation_list] [--no_check_clashes]\n",
      "    Mutate side chain with minimal atom replacement. Allows multiple mutations.\n",
      "    Check generated clashes except --no_check_clashes set (v1.1)\n",
      "add_hydrogen [--add_mode auto | pH | list | interactive | interactive_his] [--no_fix_side] [--keep_h]\n",
      "    Add Hydrogen Atoms. Auto: std changes at pH 7.0. His->Hie. pH: set pH value\n",
      "    list: Explicit list as [*:]HisXXHid, Interactive[_his]: Prompts for all selectable residues\n",
      "    Fixes missing side chain atoms unless --no_fix_side is set\n",
      "    Existing hydrogen atoms are remove before adding new ones unless --keep_h set.\n",
      "\n",
      "2. Fix Structure Errors\n",
      "\n",
      "amide  [--fix All|None|Residue List] [--no_recheck]\n",
      "    Detect/Fix Amide atoms Assignment\n",
      "    Amide contacts are recheck unless --no_recheck\n",
      "chiral [--fix All|None|Residue List] [--no_check_clashes]\n",
      "    Detect/Fix Improper quirality\n",
      "    Checks generated clashes unless --no_check_clashes set\n",
      "fixside [--fix All |None|Residue List] [--no_check_clashes]\n",
      "    Complete side chains\n",
      "    Checks generated clashes unless --no_check_clashes set\n",
      "backbone [--fix_atoms All|None|Residue List]\n",
      "         [--fix_main All|None|Break list] (v1.1)\n",
      "         [--add_caps All|None|Break list] (v1.1)\n",
      "         [--no_recheck]\n",
      "         [--no_check_clashes]\n",
      "    Analyze main chain missing atoms and fragments.\n",
      "    --fix_atoms O, OXT atoms can be fixed\n",
      "    --fix_main Missing fragments filled using comparative modelling (Modeller License needed)\n",
      "    --add_caps Adds ACE and NME residues as necessary\n",
      "    Rechecks beckbone on each op unless --no_recheck is set.\n",
      "    Generated clashes are checked unless --no_check_clashes\n",
      "\n",
      "\n",
      "3. Structure Warnings\n",
      "\n",
      "cistransbck Analyzes cis-trans dihedrals on backbone atoms\n",
      "getss      Detect SS Bonds\n",
      "clashes    Steric clashes (Severe, Apolar, Polar Donors, Polar Acceptors,\n",
      "           Ionic Positive, Ionic Negative)\n",
      "\n"
     ]
    }
   ],
   "source": [
    "with open(args['commands_help_path']) as help_file:\n",
    "    print(help_file.read())"
   ]
  },
  {
   "cell_type": "markdown",
   "metadata": {},
   "source": [
    "Set input (PDB or local file, pdb or mmCif formats allowed) and output (local file, pdb format).  \n",
    "Use pdb:pdbid for downloading structure from PDB (RCSB)"
   ]
  },
  {
   "cell_type": "code",
   "execution_count": 4,
   "metadata": {},
   "outputs": [],
   "source": [
    "args['input_structure_path'] = 'pdb:2ki5'\n",
    "args['output_structure_path'] = 'test.pdb'"
   ]
  },
  {
   "cell_type": "markdown",
   "metadata": {},
   "source": [
    "Initializing checking engine, loading structure and showing statistics"
   ]
  },
  {
   "cell_type": "code",
   "execution_count": 5,
   "metadata": {},
   "outputs": [
    {
     "name": "stdout",
     "output_type": "stream",
     "text": [
      "Structure exists: 'tmpPDB/ki/2ki5.cif' \n",
      "Structure pdb:2ki5 loaded\n",
      " PDB id: 2KI5\n",
      " Title: HERPES SIMPLEX TYPE-1 THYMIDINE KINASE IN COMPLEX WITH THE DRUG ACICLOVIR AT 1.9A RESOLUTION\n",
      " Experimental method: X-RAY DIFFRACTION\n",
      " Keywords: TRANSFERASE\n",
      " Resolution: 1.90 A\n",
      "\n",
      " Num. models: 1\n",
      " Num. chains: 2 (A: Protein, B: Protein)\n",
      " Num. residues:  908\n",
      " Num. residues with ins. codes:  0\n",
      " Num. HETATM residues:  296\n",
      " Num. ligands or modified residues:  4\n",
      " Num. water mol.:  292\n",
      " Num. atoms:  4961\n",
      "Small mol ligands found\n",
      "SO4 A4\n",
      "AC2 A1\n",
      "SO4 B3\n",
      "AC2 B2\n",
      "\n"
     ]
    }
   ],
   "source": [
    "\n",
    "st_c = StructureChecking(base_dir_path,args)\n"
   ]
  },
  {
   "cell_type": "markdown",
   "metadata": {},
   "source": [
    "#### models\n",
    "Checks for the presence of models in the structure. \n",
    "MD simulations require a single structure, although some structures (e.g. biounits) may be defined as a series of models, in such case all of them are usually required.  \n",
    "Use models('--select N') to select model num N for further analysis"
   ]
  },
  {
   "cell_type": "code",
   "execution_count": 6,
   "metadata": {},
   "outputs": [
    {
     "name": "stdout",
     "output_type": "stream",
     "text": [
      "Running models.\n",
      "1 Model(s) detected\n",
      "Single model found\n",
      "Running  check_only. Nothing else to do.\n"
     ]
    }
   ],
   "source": [
    "st_c.models()"
   ]
  },
  {
   "cell_type": "markdown",
   "metadata": {},
   "source": [
    "#### chains\n",
    "Checks for chains (also obtained from print_stats), and allow to select one or more.   \n",
    "MD simulations are usually performed with complete structures. However input structure may contain several copies of the system, or contains additional chains like peptides or nucleic acids that may be removed. \n",
    "Use chains('X,Y') to select chain(s) X and Y to proceed"
   ]
  },
  {
   "cell_type": "code",
   "execution_count": 7,
   "metadata": {},
   "outputs": [
    {
     "name": "stdout",
     "output_type": "stream",
     "text": [
      "Running chains.\n",
      "2 Chain(s) detected\n",
      " A: Protein\n",
      " B: Protein\n",
      "Running  check_only. Nothing else to do.\n"
     ]
    }
   ],
   "source": [
    "st_c.chains()\n"
   ]
  },
  {
   "cell_type": "markdown",
   "metadata": {},
   "source": [
    "#### altloc\n",
    "Checks for the presence of residues with alternative locations. Atoms with alternative coordinates and their occupancy are reported.  \n",
    "MD simulations requires a single position for each atom.  \n",
    "Use altloc('occupancy | alt_ids | list of res:id) to select the alternative\n"
   ]
  },
  {
   "cell_type": "code",
   "execution_count": 8,
   "metadata": {},
   "outputs": [
    {
     "name": "stdout",
     "output_type": "stream",
     "text": [
      "Running altloc.\n",
      "Detected 2 residues with alternative location labels\n",
      "AC2 A1\n",
      "  C3'  A (1.00) B (0.01)\n",
      "  O3'  A (1.00) B (0.01)\n",
      "  C2'  A (1.00) B (0.01)\n",
      "  O1'  A (1.00) B (0.01)\n",
      "  C1'  A (1.00) B (0.01)\n",
      "HOH A779\n",
      "  O    A (1.00)\n",
      "Running  check_only. Nothing else to do.\n"
     ]
    }
   ],
   "source": [
    "st_c.altloc()"
   ]
  },
  {
   "cell_type": "markdown",
   "metadata": {},
   "source": [
    "#### metals\n",
    "Detects HETATM being metal ions allow to selectively remove them.  \n",
    "To remove use metals (' All | None | metal_type list | residue list ')"
   ]
  },
  {
   "cell_type": "code",
   "execution_count": 9,
   "metadata": {},
   "outputs": [
    {
     "name": "stdout",
     "output_type": "stream",
     "text": [
      "Running metals.\n",
      "No metal ions found\n",
      "Running  check_only. Nothing else to do.\n"
     ]
    }
   ],
   "source": [
    "st_c.metals()"
   ]
  },
  {
   "cell_type": "markdown",
   "metadata": {},
   "source": [
    "#### ligands\n",
    "Detects HETATM (excluding Water molecules) to selectively remove them.  \n",
    "To remove use ligands('All | None | Residue List (by id, by num)')\n"
   ]
  },
  {
   "cell_type": "code",
   "execution_count": 10,
   "metadata": {},
   "outputs": [
    {
     "name": "stdout",
     "output_type": "stream",
     "text": [
      "Running ligands.\n",
      "4 Ligands detected\n",
      " SO4 A4\n",
      " AC2 A1\n",
      " SO4 B3\n",
      " AC2 B2\n",
      "Running  check_only. Nothing else to do.\n"
     ]
    }
   ],
   "source": [
    "st_c.ligands()"
   ]
  },
  {
   "cell_type": "markdown",
   "metadata": {},
   "source": [
    "#### rem_hydrogen\n",
    "Detects and remove hydrogen atoms. \n",
    "MD setup can be done with the original H atoms, however to prevent from non standard labelling, remove them is safer.  \n",
    "To remove use rem_hydrogen('yes')\n"
   ]
  },
  {
   "cell_type": "code",
   "execution_count": 11,
   "metadata": {},
   "outputs": [
    {
     "name": "stdout",
     "output_type": "stream",
     "text": [
      "Running rem_hydrogen.\n",
      "No residues with Hydrogen atoms found\n",
      "Running  check_only. Nothing else to do.\n"
     ]
    }
   ],
   "source": [
    "st_c.rem_hydrogen()"
   ]
  },
  {
   "cell_type": "markdown",
   "metadata": {},
   "source": [
    "#### water\n",
    "Detects water molecules and allows to remove them\n",
    "Crystallographic water molecules may be relevant for keeping the structure, however in most cases only some of them are required. These can be later added using other methods (titration) or manually.\n",
    "\n",
    "To remove water molecules use water('yes')\n"
   ]
  },
  {
   "cell_type": "code",
   "execution_count": 12,
   "metadata": {},
   "outputs": [
    {
     "name": "stdout",
     "output_type": "stream",
     "text": [
      "Running water.\n",
      "292 Water molecules detected\n",
      "Running  check_only. Nothing else to do.\n"
     ]
    }
   ],
   "source": [
    "st_c.water()"
   ]
  },
  {
   "cell_type": "markdown",
   "metadata": {},
   "source": [
    "#### amide\n",
    "Amide terminal atoms in Asn ang Gln residues can be labelled incorrectly.  \n",
    "amide suggests possible fixes by checking the sourrounding environent.\n",
    "\n",
    "To fix use amide ('All | None | residue_list')\n",
    "\n",
    "Note that the inversion of amide atoms may trigger additional contacts. "
   ]
  },
  {
   "cell_type": "code",
   "execution_count": 13,
   "metadata": {},
   "outputs": [
    {
     "name": "stdout",
     "output_type": "stream",
     "text": [
      "Running amide.\n",
      "No unusual contact(s) involving amide atoms found\n",
      "Running  check_only. Nothing else to do.\n"
     ]
    }
   ],
   "source": [
    "st_c.amide()"
   ]
  },
  {
   "cell_type": "markdown",
   "metadata": {},
   "source": [
    "#### chiral\n",
    "Side chains of Thr and Ile are chiral, incorrect atom labelling lead to the wrong chirality.  \n",
    "To fix use chiral('All | None | residue_list')"
   ]
  },
  {
   "cell_type": "code",
   "execution_count": 14,
   "metadata": {},
   "outputs": [
    {
     "name": "stdout",
     "output_type": "stream",
     "text": [
      "Running chiral.\n",
      "No residues with incorrect side-chain chirality found\n",
      "Running  check_only. Nothing else to do.\n"
     ]
    }
   ],
   "source": [
    "st_c.chiral()"
   ]
  },
  {
   "cell_type": "markdown",
   "metadata": {},
   "source": [
    "#### Backbone\n",
    "Detects and fixes several problems with the backbone\n",
    "use any of \n",
    "--fix_atoms All|None|Residue List \n",
    "--fix_main All|None|Break list\n",
    "--add_caps All|None|Break list\n",
    "--no_recheck\n"
   ]
  },
  {
   "cell_type": "code",
   "execution_count": 15,
   "metadata": {
    "scrolled": false
   },
   "outputs": [
    {
     "name": "stdout",
     "output_type": "stream",
     "text": [
      "Running backbone.\n",
      "8 Residues with missing backbone atoms found\n",
      " VAL A70    CA,C,O,OXT\n",
      " GLY A148   CA,C,O,OXT\n",
      " GLY A264   CA,C,O,OXT\n",
      " ALA A375   CA,C,O,OXT\n",
      " GLY B73    CA,C,O,OXT\n",
      " GLY B148   CA,C,O,OXT\n",
      " SER B263   CA,C,O,OXT\n",
      " ALA B375   CA,C,O,OXT\n",
      "6 Backbone breaks found\n",
      " VAL A70    - ASP A77    \n",
      " GLY A148   - PRO A154   \n",
      " GLY A264   - PRO A280   \n",
      " GLY B73    - ASP B77    \n",
      " GLY B148   - PRO B154   \n",
      " SER B263   - ALA B278   \n",
      "Running  check_only. Nothing else to do.\n"
     ]
    }
   ],
   "source": [
    "st_c.backbone()"
   ]
  },
  {
   "cell_type": "markdown",
   "metadata": {},
   "source": [
    "#### fixside\n",
    "Detects and re-built missing protein side chains.   \n",
    "To fix use fixside('All | None | residue_list')"
   ]
  },
  {
   "cell_type": "code",
   "execution_count": 16,
   "metadata": {},
   "outputs": [
    {
     "name": "stdout",
     "output_type": "stream",
     "text": [
      "Running fixside.\n",
      "6 Residues with missing side chain atoms found\n",
      " MET A46    CG,SD,CE\n",
      " PRO A154   CG,CD\n",
      " PRO A280   CG,CD\n",
      " MET B46    CG,SD,CE\n",
      " PRO B154   CG,CD\n",
      " ARG B220   CG,CD,NE,CZ,NH1,NH2\n",
      "Running  check_only. Nothing else to do.\n"
     ]
    }
   ],
   "source": [
    "st_c.fixside()"
   ]
  },
  {
   "cell_type": "markdown",
   "metadata": {},
   "source": [
    "#### Add_hydrogens\n",
    " Add Hydrogen Atoms. Auto: std changes at pH 7.0. His->Hie. pH: set pH value\n",
    "    list: Explicit list as [*:]HisXXHid, Interactive[_his]: Prompts for all selectable residues\n",
    "    Fixes missing side chain atoms unless --no_fix_side is set\n",
    "    Existing hydrogen atoms are removed before adding new ones unless --keep_h set."
   ]
  },
  {
   "cell_type": "code",
   "execution_count": 17,
   "metadata": {},
   "outputs": [
    {
     "name": "stdout",
     "output_type": "stream",
     "text": [
      "Running add_hydrogen. Options: auto\n",
      "148 Residues requiring selection on adding H atoms\n",
      "CYS A171,A251,A336,A362,B171,B251,B336,B362\n",
      "ASP A55,A77,A108,A116,A136,A162,A211,A215,A228,A258,A286,A303,A313,A328,A330,A338,A363,B55,B77,B108,B116,B136,B162,B211,B215,B228,B258,B286,B303,B313,B328,B330,B338,B363\n",
      "GLU A83,A95,A111,A146,A210,A225,A257,A296,A371,A374,B83,B95,B111,B146,B210,B225,B257,B296,B371,B374\n",
      "HIS A58,A105,A142,A164,A213,A283,A323,A351,B58,B105,B142,B164,B213,B283,B323,B351\n",
      "LYS A62,A219,A317,B62,B219,B317\n",
      "ARG A51,A89,A106,A163,A176,A212,A216,A220,A222,A226,A236,A237,A247,A256,A281,A293,A318,A320,A337,A366,A370,B51,B89,B106,B163,B176,B212,B216,B220,B222,B226,B236,B237,B247,B256,B281,B293,B318,B320,B337,B366,B370\n",
      "TYR A53,A80,A87,A101,A132,A172,A177,A239,A248,A305,A329,B53,B80,B87,B101,B132,B172,B177,B239,B248,B305,B329\n",
      "WARNING: fixing side chains, override with --no_fix_side\n",
      "Running fixside. Options: --fix all\n",
      "6 Residues with missing side chain atoms found\n",
      " MET A46    CG,SD,CE\n",
      " PRO A154   CG,CD\n",
      " PRO A280   CG,CD\n",
      " MET B46    CG,SD,CE\n",
      " PRO B154   CG,CD\n",
      " ARG B220   CG,CD,NE,CZ,NH1,NH2\n",
      "Fixing side chains\n",
      "MET A46\n",
      "  Adding new atom CG\n",
      "  Adding new atom SD\n",
      "  Adding new atom CE\n",
      "PRO A154\n",
      "  Adding new atom CG\n",
      "  Adding new atom CD\n",
      "PRO A280\n",
      "  Adding new atom CG\n",
      "  Adding new atom CD\n",
      "MET B46\n",
      "  Adding new atom CG\n",
      "  Adding new atom SD\n",
      "  Adding new atom CE\n",
      "PRO B154\n",
      "  Adding new atom CG\n",
      "  Adding new atom CD\n",
      "ARG B220\n",
      "  Adding new atom CG\n",
      "  Adding new atom CD\n",
      "  Adding new atom NE\n",
      "  Adding new atom CZ\n",
      "  Adding new atom NH1\n",
      "  Adding new atom NH2\n",
      "Fixed 6 side chain(s)\n",
      "Checking for steric clashes\n",
      "No severe clashes detected\n",
      "5 Steric apolar clashes detected\n",
      " MET A46.CE   VAL A352.CG2    1.843 A\n",
      " MET A46.CE   THR A354.O      1.869 A\n",
      " MET B46.CE   VAL B352.O      0.921 A\n",
      " GLY B61.CA   ARG B220.NH1    2.301 A\n",
      " ARG B220.CZ  SO4 B3.O3       1.597 A\n",
      "3 Steric polar_acceptor clashes detected\n",
      " MET A46.SD   VAL A352.O      2.171 A\n",
      " MET A46.SD   THR A354.O      2.569 A\n",
      " MET B46.SD   VAL B352.O      2.291 A\n",
      "2 Steric polar_donor clashes detected\n",
      " GLY B61.N    ARG B220.NH1    2.443 A\n",
      " ARG B216.NH2 ARG B220.NH1    2.977 A\n",
      "1 Steric positive clashes detected\n",
      " ARG B216.NH2 ARG B220.NH1    2.977 A\n",
      "No negative clashes detected\n",
      "Selection: auto\n",
      "Replacing HIS A58 by HIE\n",
      "Warning: not enough atoms to build side chain hydrogen atoms on VAL A70\n",
      "Replacing HIS A105 by HIE\n",
      "Replacing HIS A142 by HIE\n",
      "Replacing HIS A164 by HIE\n",
      "Replacing HIS A213 by HIE\n",
      "Replacing HIS A283 by HIE\n",
      "Replacing HIS A323 by HIE\n",
      "Replacing HIS A351 by HIE\n",
      "Warning: not enough atoms to build side chain hydrogen atoms on ALA A375\n",
      "Replacing HIS B58 by HIE\n",
      "Replacing HIS B105 by HIE\n",
      "Replacing HIS B142 by HIE\n",
      "Replacing HIS B164 by HIE\n",
      "Replacing HIS B213 by HIE\n",
      "Warning: not enough atoms to build side chain hydrogen atoms on SER B263\n",
      "Replacing HIS B283 by HIE\n",
      "Replacing HIS B323 by HIE\n",
      "Replacing HIS B351 by HIE\n",
      "Warning: not enough atoms to build side chain hydrogen atoms on ALA B375\n"
     ]
    }
   ],
   "source": [
    "st_c.add_hydrogen('auto')"
   ]
  },
  {
   "cell_type": "markdown",
   "metadata": {},
   "source": [
    "#### getss\n",
    "Detects possible -S-S- bonds based on distance criteria.\n",
    "Proper simulation requires those bonds to be correctly set."
   ]
  },
  {
   "cell_type": "code",
   "execution_count": 18,
   "metadata": {},
   "outputs": [
    {
     "name": "stdout",
     "output_type": "stream",
     "text": [
      "Running getss.\n",
      "No SS bonds detected\n",
      "Running  check_only. Nothing else to do.\n"
     ]
    }
   ],
   "source": [
    "st_c.getss()"
   ]
  },
  {
   "cell_type": "markdown",
   "metadata": {},
   "source": [
    "#### clashes\n",
    "Detects steric clashes based on distance criteria.  \n",
    "Contacts are classified in: \n",
    "* Severe: Too close atoms, usually indicating superimposed structures or badly modelled regions. Should be fixed.\n",
    "* Apolar: Vdw colissions.Usually fixed during the simulation.\n",
    "* Polar and ionic. Usually indicate wrong side chain conformations. Usually fixed during the simulation\n"
   ]
  },
  {
   "cell_type": "code",
   "execution_count": 19,
   "metadata": {},
   "outputs": [
    {
     "name": "stdout",
     "output_type": "stream",
     "text": [
      "Running clashes.\n",
      "No severe clashes detected\n",
      "16 Steric apolar clashes detected\n",
      " MET A46.CE   VAL A352.CG2    1.843 A\n",
      " MET A46.CE   THR A354.O      1.869 A\n",
      " GLY A61.O    THR A65.CG2     2.799 A\n",
      " MET A85.CG   GLU A374.OE1    2.857 A\n",
      " ARG A89.CD   GLU A95.OE1     2.776 A\n",
      " LEU A232.O   ARG A236.CG     2.741 A\n",
      " MET A372.SD  VAL B307.CG1    2.777 A\n",
      " MET B46.CE   VAL B352.O      0.921 A\n",
      " GLY B61.CA   ARG B220.NH1    2.301 A\n",
      " LYS B62.O    THR B66.CG2     2.878 A\n",
      " THR B66.OG1  TYR B80.CE1     2.890 A\n",
      " THR B86.OG1  GLU B374.CB     2.892 A\n",
      " GLU B210.O   ILE B214.CG1    2.842 A\n",
      " ARG B212.CZ  ASP B330.OD1    2.875 A\n",
      " ARG B220.CZ  SO4 B3.O3       1.597 A\n",
      " SER B357.O   ILE B361.CG1    2.861 A\n",
      "8 Steric polar_acceptor clashes detected\n",
      " MET A46.SD   VAL A352.O      2.171 A\n",
      " MET A46.SD   THR A354.O      2.569 A\n",
      " ASP A55.O    VAL A204.O      3.035 A\n",
      " MET B46.SD   VAL B352.O      2.291 A\n",
      " ARG B89.O    GLU B95.OE1     2.792 A\n",
      " ASP B211.O   ASP B215.OD2    2.914 A\n",
      " ALA B334.O   ASP B338.OD2    3.100 A\n",
      " PRO B359.O   ASP B363.OD2    3.073 A\n",
      "4 Steric polar_donor clashes detected\n",
      " LYS A62.NZ   ARG A163.NH1    2.578 A\n",
      " ARG A212.NH2 ARG A216.NH2    3.075 A\n",
      " GLY B61.N    ARG B220.NH1    2.443 A\n",
      " ARG B216.NH2 ARG B220.NH1    2.977 A\n",
      "3 Steric positive clashes detected\n",
      " LYS A62.NZ   ARG A163.NH1    2.578 A\n",
      " ARG A212.NH2 ARG A216.NH2    3.075 A\n",
      " ARG B216.NH2 ARG B220.NH1    2.977 A\n",
      "No negative clashes detected\n",
      "Running  check_only. Nothing else to do.\n"
     ]
    }
   ],
   "source": [
    "st_c.clashes()"
   ]
  },
  {
   "cell_type": "code",
   "execution_count": 20,
   "metadata": {},
   "outputs": [
    {
     "data": {
      "text/plain": [
       "'test.pdb'"
      ]
     },
     "execution_count": 20,
     "metadata": {},
     "output_type": "execute_result"
    }
   ],
   "source": [
    "st_c._save_structure(args['output_structure_path'])"
   ]
  },
  {
   "cell_type": "code",
   "execution_count": 21,
   "metadata": {},
   "outputs": [
    {
     "ename": "AttributeError",
     "evalue": "'Atom' object has no attribute 'disordered_get_list'",
     "output_type": "error",
     "traceback": [
      "\u001b[0;31m---------------------------------------------------------------------------\u001b[0m",
      "\u001b[0;31mAttributeError\u001b[0m                            Traceback (most recent call last)",
      "\u001b[0;32m<ipython-input-21-82bc33ec10db>\u001b[0m in \u001b[0;36m<module>\u001b[0;34m\u001b[0m\n\u001b[1;32m      1\u001b[0m \u001b[0;32mimport\u001b[0m \u001b[0mnglview\u001b[0m \u001b[0;32mas\u001b[0m \u001b[0mnv\u001b[0m\u001b[0;34m\u001b[0m\u001b[0;34m\u001b[0m\u001b[0m\n\u001b[0;32m----> 2\u001b[0;31m \u001b[0mw\u001b[0m \u001b[0;34m=\u001b[0m \u001b[0mnv\u001b[0m\u001b[0;34m.\u001b[0m\u001b[0mshow_biopython\u001b[0m\u001b[0;34m(\u001b[0m\u001b[0mst_c\u001b[0m\u001b[0;34m.\u001b[0m\u001b[0mstrucm\u001b[0m\u001b[0;34m.\u001b[0m\u001b[0mst\u001b[0m\u001b[0;34m[\u001b[0m\u001b[0;36m0\u001b[0m\u001b[0;34m]\u001b[0m\u001b[0;34m)\u001b[0m\u001b[0;34m\u001b[0m\u001b[0;34m\u001b[0m\u001b[0m\n\u001b[0m",
      "\u001b[0;32m~/miniconda3/envs/devChecking/lib/python3.6/site-packages/nglview/show.py\u001b[0m in \u001b[0;36mshow_biopython\u001b[0;34m(entity, **kwargs)\u001b[0m\n\u001b[1;32m    448\u001b[0m     '''\n\u001b[1;32m    449\u001b[0m     \u001b[0mentity\u001b[0m \u001b[0;34m=\u001b[0m \u001b[0mBiopythonStructure\u001b[0m\u001b[0;34m(\u001b[0m\u001b[0mentity\u001b[0m\u001b[0;34m)\u001b[0m\u001b[0;34m\u001b[0m\u001b[0;34m\u001b[0m\u001b[0m\n\u001b[0;32m--> 450\u001b[0;31m     \u001b[0;32mreturn\u001b[0m \u001b[0mNGLWidget\u001b[0m\u001b[0;34m(\u001b[0m\u001b[0mentity\u001b[0m\u001b[0;34m,\u001b[0m \u001b[0;34m**\u001b[0m\u001b[0mkwargs\u001b[0m\u001b[0;34m)\u001b[0m\u001b[0;34m\u001b[0m\u001b[0;34m\u001b[0m\u001b[0m\n\u001b[0m\u001b[1;32m    451\u001b[0m \u001b[0;34m\u001b[0m\u001b[0m\n\u001b[1;32m    452\u001b[0m \u001b[0;34m\u001b[0m\u001b[0m\n",
      "\u001b[0;32m~/miniconda3/envs/devChecking/lib/python3.6/site-packages/nglview/widget.py\u001b[0m in \u001b[0;36m__init__\u001b[0;34m(self, structure, representations, parameters, **kwargs)\u001b[0m\n\u001b[1;32m    201\u001b[0m         \u001b[0;32melse\u001b[0m\u001b[0;34m:\u001b[0m\u001b[0;34m\u001b[0m\u001b[0;34m\u001b[0m\u001b[0m\n\u001b[1;32m    202\u001b[0m             \u001b[0;32mif\u001b[0m \u001b[0mstructure\u001b[0m \u001b[0;32mis\u001b[0m \u001b[0;32mnot\u001b[0m \u001b[0;32mNone\u001b[0m\u001b[0;34m:\u001b[0m\u001b[0;34m\u001b[0m\u001b[0;34m\u001b[0m\u001b[0m\n\u001b[0;32m--> 203\u001b[0;31m                 \u001b[0mself\u001b[0m\u001b[0;34m.\u001b[0m\u001b[0madd_structure\u001b[0m\u001b[0;34m(\u001b[0m\u001b[0mstructure\u001b[0m\u001b[0;34m,\u001b[0m \u001b[0;34m**\u001b[0m\u001b[0mkwargs\u001b[0m\u001b[0;34m)\u001b[0m\u001b[0;34m\u001b[0m\u001b[0;34m\u001b[0m\u001b[0m\n\u001b[0m\u001b[1;32m    204\u001b[0m \u001b[0;34m\u001b[0m\u001b[0m\n\u001b[1;32m    205\u001b[0m         \u001b[0;32mif\u001b[0m \u001b[0mrepresentations\u001b[0m\u001b[0;34m:\u001b[0m\u001b[0;34m\u001b[0m\u001b[0;34m\u001b[0m\u001b[0m\n",
      "\u001b[0;32m~/miniconda3/envs/devChecking/lib/python3.6/site-packages/nglview/widget.py\u001b[0m in \u001b[0;36madd_structure\u001b[0;34m(self, structure, **kwargs)\u001b[0m\n\u001b[1;32m   1089\u001b[0m             raise ValueError(\n\u001b[1;32m   1090\u001b[0m                 f'{structure} is not an instance of Structure')\n\u001b[0;32m-> 1091\u001b[0;31m         \u001b[0mself\u001b[0m\u001b[0;34m.\u001b[0m\u001b[0m_load_data\u001b[0m\u001b[0;34m(\u001b[0m\u001b[0mstructure\u001b[0m\u001b[0;34m,\u001b[0m \u001b[0;34m**\u001b[0m\u001b[0mkwargs\u001b[0m\u001b[0;34m)\u001b[0m\u001b[0;34m\u001b[0m\u001b[0;34m\u001b[0m\u001b[0m\n\u001b[0m\u001b[1;32m   1092\u001b[0m         \u001b[0mself\u001b[0m\u001b[0;34m.\u001b[0m\u001b[0m_ngl_component_ids\u001b[0m\u001b[0;34m.\u001b[0m\u001b[0mappend\u001b[0m\u001b[0;34m(\u001b[0m\u001b[0mstructure\u001b[0m\u001b[0;34m.\u001b[0m\u001b[0mid\u001b[0m\u001b[0;34m)\u001b[0m\u001b[0;34m\u001b[0m\u001b[0;34m\u001b[0m\u001b[0m\n\u001b[1;32m   1093\u001b[0m         \u001b[0;32mif\u001b[0m \u001b[0mself\u001b[0m\u001b[0;34m.\u001b[0m\u001b[0mn_components\u001b[0m \u001b[0;34m>\u001b[0m \u001b[0;36m1\u001b[0m\u001b[0;34m:\u001b[0m\u001b[0;34m\u001b[0m\u001b[0;34m\u001b[0m\u001b[0m\n",
      "\u001b[0;32m~/miniconda3/envs/devChecking/lib/python3.6/site-packages/nglview/widget.py\u001b[0m in \u001b[0;36m_load_data\u001b[0;34m(self, obj, **kwargs)\u001b[0m\n\u001b[1;32m   1196\u001b[0m         \u001b[0;32mif\u001b[0m \u001b[0;32mnot\u001b[0m \u001b[0mis_url\u001b[0m\u001b[0;34m:\u001b[0m\u001b[0;34m\u001b[0m\u001b[0;34m\u001b[0m\u001b[0m\n\u001b[1;32m   1197\u001b[0m             \u001b[0;32mif\u001b[0m \u001b[0mhasattr\u001b[0m\u001b[0;34m(\u001b[0m\u001b[0mobj\u001b[0m\u001b[0;34m,\u001b[0m \u001b[0;34m'get_structure_string'\u001b[0m\u001b[0;34m)\u001b[0m\u001b[0;34m:\u001b[0m\u001b[0;34m\u001b[0m\u001b[0;34m\u001b[0m\u001b[0m\n\u001b[0;32m-> 1198\u001b[0;31m                 \u001b[0mblob\u001b[0m \u001b[0;34m=\u001b[0m \u001b[0mobj\u001b[0m\u001b[0;34m.\u001b[0m\u001b[0mget_structure_string\u001b[0m\u001b[0;34m(\u001b[0m\u001b[0;34m)\u001b[0m\u001b[0;34m\u001b[0m\u001b[0;34m\u001b[0m\u001b[0m\n\u001b[0m\u001b[1;32m   1199\u001b[0m                 \u001b[0mkwargs2\u001b[0m\u001b[0;34m[\u001b[0m\u001b[0;34m'ext'\u001b[0m\u001b[0;34m]\u001b[0m \u001b[0;34m=\u001b[0m \u001b[0mobj\u001b[0m\u001b[0;34m.\u001b[0m\u001b[0mext\u001b[0m\u001b[0;34m\u001b[0m\u001b[0;34m\u001b[0m\u001b[0m\n\u001b[1;32m   1200\u001b[0m                 \u001b[0mpassing_buffer\u001b[0m \u001b[0;34m=\u001b[0m \u001b[0;32mTrue\u001b[0m\u001b[0;34m\u001b[0m\u001b[0;34m\u001b[0m\u001b[0m\n",
      "\u001b[0;32m~/miniconda3/envs/devChecking/lib/python3.6/site-packages/nglview/adaptor.py\u001b[0m in \u001b[0;36mget_structure_string\u001b[0;34m(self)\u001b[0m\n\u001b[1;32m    165\u001b[0m         \u001b[0mio_pdb\u001b[0m\u001b[0;34m.\u001b[0m\u001b[0mset_structure\u001b[0m\u001b[0;34m(\u001b[0m\u001b[0mself\u001b[0m\u001b[0;34m.\u001b[0m\u001b[0m_entity\u001b[0m\u001b[0;34m)\u001b[0m\u001b[0;34m\u001b[0m\u001b[0;34m\u001b[0m\u001b[0m\n\u001b[1;32m    166\u001b[0m         \u001b[0mio_str\u001b[0m \u001b[0;34m=\u001b[0m \u001b[0mStringIO\u001b[0m\u001b[0;34m(\u001b[0m\u001b[0;34m)\u001b[0m\u001b[0;34m\u001b[0m\u001b[0;34m\u001b[0m\u001b[0m\n\u001b[0;32m--> 167\u001b[0;31m         \u001b[0mio_pdb\u001b[0m\u001b[0;34m.\u001b[0m\u001b[0msave\u001b[0m\u001b[0;34m(\u001b[0m\u001b[0mio_str\u001b[0m\u001b[0;34m)\u001b[0m\u001b[0;34m\u001b[0m\u001b[0;34m\u001b[0m\u001b[0m\n\u001b[0m\u001b[1;32m    168\u001b[0m         \u001b[0;32mreturn\u001b[0m \u001b[0mio_str\u001b[0m\u001b[0;34m.\u001b[0m\u001b[0mgetvalue\u001b[0m\u001b[0;34m(\u001b[0m\u001b[0;34m)\u001b[0m\u001b[0;34m\u001b[0m\u001b[0;34m\u001b[0m\u001b[0m\n\u001b[1;32m    169\u001b[0m \u001b[0;34m\u001b[0m\u001b[0m\n",
      "\u001b[0;32m~/miniconda3/envs/devChecking/lib/python3.6/site-packages/Bio/PDB/PDBIO.py\u001b[0m in \u001b[0;36msave\u001b[0;34m(self, file, select, write_end, preserve_atom_numbering)\u001b[0m\n\u001b[1;32m    213\u001b[0m                     \u001b[0mresname\u001b[0m \u001b[0;34m=\u001b[0m \u001b[0mresidue\u001b[0m\u001b[0;34m.\u001b[0m\u001b[0mget_resname\u001b[0m\u001b[0;34m(\u001b[0m\u001b[0;34m)\u001b[0m\u001b[0;34m\u001b[0m\u001b[0;34m\u001b[0m\u001b[0m\n\u001b[1;32m    214\u001b[0m                     \u001b[0msegid\u001b[0m \u001b[0;34m=\u001b[0m \u001b[0mresidue\u001b[0m\u001b[0;34m.\u001b[0m\u001b[0mget_segid\u001b[0m\u001b[0;34m(\u001b[0m\u001b[0;34m)\u001b[0m\u001b[0;34m\u001b[0m\u001b[0;34m\u001b[0m\u001b[0m\n\u001b[0;32m--> 215\u001b[0;31m                     \u001b[0;32mfor\u001b[0m \u001b[0matom\u001b[0m \u001b[0;32min\u001b[0m \u001b[0mresidue\u001b[0m\u001b[0;34m.\u001b[0m\u001b[0mget_unpacked_list\u001b[0m\u001b[0;34m(\u001b[0m\u001b[0;34m)\u001b[0m\u001b[0;34m:\u001b[0m\u001b[0;34m\u001b[0m\u001b[0;34m\u001b[0m\u001b[0m\n\u001b[0m\u001b[1;32m    216\u001b[0m                         \u001b[0;32mif\u001b[0m \u001b[0mselect\u001b[0m\u001b[0;34m.\u001b[0m\u001b[0maccept_atom\u001b[0m\u001b[0;34m(\u001b[0m\u001b[0matom\u001b[0m\u001b[0;34m)\u001b[0m\u001b[0;34m:\u001b[0m\u001b[0;34m\u001b[0m\u001b[0;34m\u001b[0m\u001b[0m\n\u001b[1;32m    217\u001b[0m                             \u001b[0mchain_residues_written\u001b[0m \u001b[0;34m=\u001b[0m \u001b[0;36m1\u001b[0m\u001b[0;34m\u001b[0m\u001b[0;34m\u001b[0m\u001b[0m\n",
      "\u001b[0;32m~/miniconda3/envs/devChecking/lib/python3.6/site-packages/Bio/PDB/Residue.py\u001b[0m in \u001b[0;36mget_unpacked_list\u001b[0;34m(self)\u001b[0m\n\u001b[1;32m     81\u001b[0m         \u001b[0;32mfor\u001b[0m \u001b[0matom\u001b[0m \u001b[0;32min\u001b[0m \u001b[0matom_list\u001b[0m\u001b[0;34m:\u001b[0m\u001b[0;34m\u001b[0m\u001b[0;34m\u001b[0m\u001b[0m\n\u001b[1;32m     82\u001b[0m             \u001b[0;32mif\u001b[0m \u001b[0matom\u001b[0m\u001b[0;34m.\u001b[0m\u001b[0mis_disordered\u001b[0m\u001b[0;34m(\u001b[0m\u001b[0;34m)\u001b[0m\u001b[0;34m:\u001b[0m\u001b[0;34m\u001b[0m\u001b[0;34m\u001b[0m\u001b[0m\n\u001b[0;32m---> 83\u001b[0;31m                 \u001b[0mundisordered_atom_list\u001b[0m \u001b[0;34m=\u001b[0m \u001b[0;34m(\u001b[0m\u001b[0mundisordered_atom_list\u001b[0m \u001b[0;34m+\u001b[0m \u001b[0matom\u001b[0m\u001b[0;34m.\u001b[0m\u001b[0mdisordered_get_list\u001b[0m\u001b[0;34m(\u001b[0m\u001b[0;34m)\u001b[0m\u001b[0;34m)\u001b[0m\u001b[0;34m\u001b[0m\u001b[0;34m\u001b[0m\u001b[0m\n\u001b[0m\u001b[1;32m     84\u001b[0m             \u001b[0;32melse\u001b[0m\u001b[0;34m:\u001b[0m\u001b[0;34m\u001b[0m\u001b[0;34m\u001b[0m\u001b[0m\n\u001b[1;32m     85\u001b[0m                 \u001b[0mundisordered_atom_list\u001b[0m\u001b[0;34m.\u001b[0m\u001b[0mappend\u001b[0m\u001b[0;34m(\u001b[0m\u001b[0matom\u001b[0m\u001b[0;34m)\u001b[0m\u001b[0;34m\u001b[0m\u001b[0;34m\u001b[0m\u001b[0m\n",
      "\u001b[0;31mAttributeError\u001b[0m: 'Atom' object has no attribute 'disordered_get_list'"
     ]
    }
   ],
   "source": [
    "import nglview as nv\n",
    "w = nv.show_biopython(st_c.strucm.st[0])\n"
   ]
  },
  {
   "cell_type": "code",
   "execution_count": 27,
   "metadata": {},
   "outputs": [],
   "source": [
    "from Bio.PDB import PDBParser\n",
    "parser = PDBParser()\n",
    "struc = parser.get_structure(\"pp\", \"test.pdb\")\n",
    "w = nv.show_biopython(struc[9])"
   ]
  }
 ],
 "metadata": {
  "kernelspec": {
   "display_name": "Python 3",
   "language": "python",
   "name": "python3"
  },
  "language_info": {
   "codemirror_mode": {
    "name": "ipython",
    "version": 3
   },
   "file_extension": ".py",
   "mimetype": "text/x-python",
   "name": "python",
   "nbconvert_exporter": "python",
   "pygments_lexer": "ipython3",
   "version": "3.6.8"
  }
 },
 "nbformat": 4,
 "nbformat_minor": 2
}
