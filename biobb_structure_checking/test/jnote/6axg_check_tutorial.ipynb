{
 "cells": [
  {
   "cell_type": "markdown",
   "metadata": {},
   "source": [
    "# Structure checking tutorial\n",
    "\n",
    "A complete checking analysis of a single structure follows.\n",
    "use .revert_changes() at any time to recover the original structure"
   ]
  },
  {
   "cell_type": "markdown",
   "metadata": {},
   "source": [
    "Structure checking is a key step before setting up a protein system for simulations. \n",
    "A number of normal issues found in structures at Protein Data Bank may compromise the success of the simulation, or may suggest that longer equilibration procedures are necessary.\n",
    "\n",
    "The biobb_structure_checking modules allow to \n",
    "- Do basic manipulations on structures (selection of models, chains, alternative locations\n",
    "- Detect and fix amide assignments, wrong chirality\n",
    "- Detect and fix protein backbone issues (missing fragments, and atoms, capping)\n",
    "- Detect and fix missing side-chain atoms\n",
    "- Add hydrogen atoms according to several criteria\n",
    "- Detect and classify clashes\n",
    "- Detect possible SS bonds\n",
    "\n",
    "biobb_structure_checking modules can used at the command line biobb_structure_checking/bin/check_structure\n"
   ]
  },
  {
   "cell_type": "code",
   "execution_count": null,
   "metadata": {},
   "outputs": [],
   "source": [
    "%load_ext autoreload\n",
    "%autoreload 2"
   ]
  },
  {
   "cell_type": "markdown",
   "metadata": {},
   "source": [
    "## Installation"
   ]
  },
  {
   "cell_type": "markdown",
   "metadata": {},
   "source": [
    "#### Basic imports and initialization"
   ]
  },
  {
   "cell_type": "code",
   "execution_count": null,
   "metadata": {},
   "outputs": [],
   "source": [
    "import biobb_structure_checking as bsch\n",
    "from biobb_structure_checking.structure_checking import StructureChecking\n",
    "from biobb_structure_checking.constants import help, set_defaults\n",
    "base_dir_path = bsch.__path__[0]\n",
    "args = set_defaults(base_dir_path)"
   ]
  },
  {
   "cell_type": "markdown",
   "metadata": {},
   "source": [
    "## General help"
   ]
  },
  {
   "cell_type": "code",
   "execution_count": null,
   "metadata": {},
   "outputs": [],
   "source": [
    "help()"
   ]
  },
  {
   "cell_type": "markdown",
   "metadata": {},
   "source": [
    "Set input (PDB or local file, pdb or mmCif formats allowed) and output (local file, pdb format).  \n",
    "Use pdb:pdbid for downloading structure from PDB (RCSB)"
   ]
  },
  {
   "cell_type": "code",
   "execution_count": null,
   "metadata": {},
   "outputs": [],
   "source": [
    "args['input_structure_path'] = 'pdb:6axg'\n",
    "args['output_structure_path'] = '6axg_fixed.pdb'\n",
    "args['output_structure_path_pdbqt'] = '6axg_fixed.pdbqt'"
   ]
  },
  {
   "cell_type": "markdown",
   "metadata": {},
   "source": [
    "Initializing checking engine, loading structure and showing statistics"
   ]
  },
  {
   "cell_type": "code",
   "execution_count": null,
   "metadata": {},
   "outputs": [],
   "source": [
    "structure = StructureChecking(base_dir_path,args)"
   ]
  },
  {
   "cell_type": "markdown",
   "metadata": {},
   "source": [
    "#### models\n",
    "Checks for the presence of models in the structure. \n",
    "MD simulations require a single structure, although some structures (e.g. biounits) may be defined as a series of models, in such case all of them are usually required.  \n",
    "Use models('--select N') to select model num N for further analysis"
   ]
  },
  {
   "cell_type": "code",
   "execution_count": null,
   "metadata": {},
   "outputs": [],
   "source": [
    "structure.models()"
   ]
  },
  {
   "cell_type": "markdown",
   "metadata": {},
   "source": [
    "#### chains\n",
    "Checks for chains (also obtained from print_stats), and allow to select one or more.   \n",
    "MD simulations are usually performed with complete structures. However input structure may contain several copies of the system, or contains additional chains like peptides or nucleic acids that may be removed. \n",
    "Use chains('X,Y') to select chain(s) X and Y to proceed"
   ]
  },
  {
   "cell_type": "code",
   "execution_count": null,
   "metadata": {},
   "outputs": [],
   "source": [
    "structure.chains()"
   ]
  },
  {
   "cell_type": "markdown",
   "metadata": {},
   "source": [
    "6axg have 6 copies in the crystal assimetric unit, to get a single copy, choose only A and B chains"
   ]
  },
  {
   "cell_type": "code",
   "execution_count": null,
   "metadata": {},
   "outputs": [],
   "source": [
    "structure.chains('A,B')"
   ]
  },
  {
   "cell_type": "markdown",
   "metadata": {},
   "source": [
    "#### altloc\n",
    "Checks for the presence of residues with alternative locations. Atoms with alternative coordinates and their occupancy are reported.  \n",
    "MD simulations requires a single position for each atom.  \n",
    "Use altloc('occupancy | alt_ids | list of res:id) to select the alternative\n"
   ]
  },
  {
   "cell_type": "code",
   "execution_count": null,
   "metadata": {},
   "outputs": [],
   "source": [
    "structure.altloc()"
   ]
  },
  {
   "cell_type": "markdown",
   "metadata": {},
   "source": [
    "#### metals\n",
    "Detects HETATM being metal ions allow to selectively remove them.  \n",
    "To remove use metals (' All | None | metal_type list | residue list ')"
   ]
  },
  {
   "cell_type": "code",
   "execution_count": null,
   "metadata": {},
   "outputs": [],
   "source": [
    "structure.metals()"
   ]
  },
  {
   "cell_type": "markdown",
   "metadata": {},
   "source": [
    "#### ligands\n",
    "Detects HETATM (excluding Water molecules) to selectively remove them.  \n",
    "To remove use ligands('All | None | Residue List (by id, by num)')\n"
   ]
  },
  {
   "cell_type": "code",
   "execution_count": null,
   "metadata": {},
   "outputs": [],
   "source": [
    "structure.ligands()"
   ]
  },
  {
   "cell_type": "markdown",
   "metadata": {},
   "source": [
    "#### rem_hydrogen\n",
    "Detects and remove hydrogen atoms. \n",
    "MD setup can be done with the original H atoms, however to prevent from non standard labelling, remove them is safer.  \n",
    "To remove use rem_hydrogen('yes')\n"
   ]
  },
  {
   "cell_type": "code",
   "execution_count": null,
   "metadata": {},
   "outputs": [],
   "source": [
    "structure.rem_hydrogen()"
   ]
  },
  {
   "cell_type": "markdown",
   "metadata": {},
   "source": [
    "#### water\n",
    "Detects water molecules and allows to remove them\n",
    "Crystallographic water molecules may be relevant for keeping the structure, however in most cases only some of them are required. These can be later added using other methods (titration) or manually.\n",
    "\n",
    "To remove water molecules use water('yes')\n"
   ]
  },
  {
   "cell_type": "code",
   "execution_count": null,
   "metadata": {},
   "outputs": [],
   "source": [
    "structure.water()"
   ]
  },
  {
   "cell_type": "markdown",
   "metadata": {},
   "source": [
    "#### amide\n",
    "Amide terminal atoms in Asn ang Gln residues can be labelled incorrectly.  \n",
    "amide suggests possible fixes by checking the sourrounding environent.\n",
    "\n",
    "To fix use amide ('All | None | residue_list')\n",
    "\n",
    "Note that the inversion of amide atoms may trigger additional contacts. "
   ]
  },
  {
   "cell_type": "code",
   "execution_count": null,
   "metadata": {},
   "outputs": [],
   "source": [
    "structure.amide()"
   ]
  },
  {
   "cell_type": "markdown",
   "metadata": {},
   "source": [
    "Fix all amide residues and recheck"
   ]
  },
  {
   "cell_type": "code",
   "execution_count": null,
   "metadata": {},
   "outputs": [],
   "source": [
    "structure.amide('all')"
   ]
  },
  {
   "cell_type": "markdown",
   "metadata": {},
   "source": [
    "Comparing both checks it becomes clear that GLN A233 and ASN A248 are now in a worse situation, so should be changed back to the original labelling"
   ]
  },
  {
   "cell_type": "code",
   "execution_count": null,
   "metadata": {},
   "outputs": [],
   "source": [
    "structure.amide('A223,A248')"
   ]
  },
  {
   "cell_type": "markdown",
   "metadata": {},
   "source": [
    "#### chiral\n",
    "Side chains of Thr and Ile are chiral, incorrect atom labelling lead to the wrong chirality.  \n",
    "To fix use chiral('All | None | residue_list')"
   ]
  },
  {
   "cell_type": "code",
   "execution_count": null,
   "metadata": {},
   "outputs": [],
   "source": [
    "structure.chiral()"
   ]
  },
  {
   "cell_type": "markdown",
   "metadata": {},
   "source": [
    "#### Backbone\n",
    "Detects and fixes several problems with the backbone\n",
    "use any of \n",
    "--fix_atoms All|None|Residue List \n",
    "--fix_chain All|None|Break list\n",
    "--add_caps All|None|Terms|Breaks|Residue list\n",
    "--no_recheck\n",
    "--no_check_clashes\n"
   ]
  },
  {
   "cell_type": "code",
   "execution_count": null,
   "metadata": {
    "scrolled": false
   },
   "outputs": [],
   "source": [
    "structure.backbone()"
   ]
  },
  {
   "cell_type": "markdown",
   "metadata": {},
   "source": [
    "Re-building backbone breaks with Modeller (Modeller requires a license key)"
   ]
  },
  {
   "cell_type": "code",
   "execution_count": null,
   "metadata": {},
   "outputs": [],
   "source": [
    "# args['modeller_key'] = 'XXXXXXX' #Need to register to Modeller\n",
    "opts = {\n",
    "    'fix_chain': 'all',\n",
    "    'add_caps' : 'none',\n",
    "    'fix_atoms': 'none',\n",
    "    'no_recheck': True\n",
    "}\n",
    "structure.backbone(opts)\n",
    "#structure.backbone('--fix_chain all --add_caps none --fix_atoms none --no_recheck')"
   ]
  },
  {
   "cell_type": "markdown",
   "metadata": {},
   "source": [
    "#### fixside\n",
    "Detects and re-built missing protein side chains.   \n",
    "To fix use fixside('All | None | residue_list')"
   ]
  },
  {
   "cell_type": "code",
   "execution_count": null,
   "metadata": {},
   "outputs": [],
   "source": [
    "structure.fixside()"
   ]
  },
  {
   "cell_type": "markdown",
   "metadata": {},
   "source": [
    "#### getss\n",
    "Detects possible -S-S- bonds based on distance criteria.\n",
    "Proper simulation requires those bonds to be correctly set."
   ]
  },
  {
   "cell_type": "code",
   "execution_count": null,
   "metadata": {},
   "outputs": [],
   "source": [
    "structure.getss()"
   ]
  },
  {
   "cell_type": "markdown",
   "metadata": {},
   "source": [
    "#### Add_hydrogens\n",
    " Add Hydrogen Atoms. Auto: std changes at pH 7.0. His->Hie. pH: set pH value\n",
    "    list: Explicit list as [*:]HisXXHid, Interactive[_his]: Prompts for all selectable residues\n",
    "    Fixes missing side chain atoms unless --no_fix_side is set\n",
    "    Existing hydrogen atoms are removed before adding new ones unless --keep_h set."
   ]
  },
  {
   "cell_type": "code",
   "execution_count": null,
   "metadata": {},
   "outputs": [],
   "source": [
    "structure.add_hydrogen()"
   ]
  },
  {
   "cell_type": "markdown",
   "metadata": {},
   "source": [
    "#### clashes\n",
    "Detects steric clashes based on distance criteria.  \n",
    "Contacts are classified in: \n",
    "* Severe: Too close atoms, usually indicating superimposed structures or badly modelled regions. Should be fixed.\n",
    "* Apolar: Vdw colissions.Usually fixed during the simulation.\n",
    "* Polar and ionic. Usually indicate wrong side chain conformations. Usually fixed during the simulation\n"
   ]
  },
  {
   "cell_type": "code",
   "execution_count": null,
   "metadata": {},
   "outputs": [],
   "source": [
    "structure.clashes()"
   ]
  },
  {
   "cell_type": "markdown",
   "metadata": {},
   "source": [
    "Complete check in a single method"
   ]
  },
  {
   "cell_type": "code",
   "execution_count": null,
   "metadata": {},
   "outputs": [],
   "source": [
    "structure.checkall()"
   ]
  },
  {
   "cell_type": "code",
   "execution_count": null,
   "metadata": {},
   "outputs": [],
   "source": [
    "structure.save_structure(args['output_structure_path'])"
   ]
  },
  {
   "cell_type": "code",
   "execution_count": null,
   "metadata": {},
   "outputs": [],
   "source": [
    "import nglview as nv\n",
    "nv.show_biopython(structure.strucm.st[0])"
   ]
  },
  {
   "cell_type": "code",
   "execution_count": null,
   "metadata": {},
   "outputs": [],
   "source": [
    "#structure.backbone('--fix_atoms A430 --fix_chain all --add_caps none --no_recheck')\n",
    "opts = {\n",
    "    'fix_atoms':'A430',\n",
    "    'fix_chain':'all',\n",
    "    'add_caps':'none',\n",
    "    'no_recheck': True,\n",
    "}\n",
    "structure.backbone(opts)"
   ]
  },
  {
   "cell_type": "code",
   "execution_count": null,
   "metadata": {},
   "outputs": [],
   "source": [
    "opts = {\n",
    "    'add_mode':'auto',\n",
    "    'add_charges': 'ADT'\n",
    "}\n",
    "\n",
    "structure.add_hydrogen(opts)\n",
    "\n",
    "#structure.add_hydrogen('--add_mode auto --add_charges ADT')"
   ]
  },
  {
   "cell_type": "code",
   "execution_count": null,
   "metadata": {},
   "outputs": [],
   "source": [
    "structure.save_structure('6axg.pdbqt')"
   ]
  },
  {
   "cell_type": "code",
   "execution_count": null,
   "metadata": {},
   "outputs": [],
   "source": []
  }
 ],
 "metadata": {
  "kernelspec": {
   "display_name": "Python 3 (ipykernel)",
   "language": "python",
   "name": "python3"
  },
  "language_info": {
   "codemirror_mode": {
    "name": "ipython",
    "version": 3
   },
   "file_extension": ".py",
   "mimetype": "text/x-python",
   "name": "python",
   "nbconvert_exporter": "python",
   "pygments_lexer": "ipython3",
   "version": "3.7.6"
  }
 },
 "nbformat": 4,
 "nbformat_minor": 2
}
