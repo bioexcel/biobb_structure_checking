{
 "cells": [
  {
   "cell_type": "markdown",
   "metadata": {},
   "source": [
    "# Structure checking tutorial\n",
    "\n",
    "A complete checking analysis of a single structure follows.\n",
    "use .revert_changes() at any time to recover the original structure"
   ]
  },
  {
   "cell_type": "markdown",
   "metadata": {},
   "source": [
    "Structure checking is a key step before setting up a protein system for simulations. \n",
    "A number of normal issues found in structures at Protein Data Bank may compromise the success of the simulation, or may suggest that longer equilibration procedures are necessary.\n",
    "\n",
    "The biobb_structure_checking modules allow to \n",
    "- Do basic manipulations on structures (selection of models, chains, alternative locations\n",
    "- Detect and fix amide assignments, wrong chirality\n",
    "- Detect and fix protein backbone issues (missing fragments, and atoms, capping)\n",
    "- Detect and fix missing side-chain atoms\n",
    "- Add hydrogen atoms according to several criteria\n",
    "- Detect and classify clashes\n",
    "- Detect possible SS bonds\n",
    "\n",
    "biobb_structure_checking modules can used at the command line biobb_structure_checking/bin/check_structure\n"
   ]
  },
  {
   "cell_type": "code",
   "execution_count": 1,
   "metadata": {},
   "outputs": [],
   "source": [
    "%load_ext autoreload\n",
    "%autoreload 2"
   ]
  },
  {
   "cell_type": "markdown",
   "metadata": {},
   "source": [
    "## Installation"
   ]
  },
  {
   "cell_type": "markdown",
   "metadata": {},
   "source": [
    "#### Basic imports and initialization"
   ]
  },
  {
   "cell_type": "code",
   "execution_count": 2,
   "metadata": {},
   "outputs": [],
   "source": [
    "import biobb_structure_checking as bsch\n",
    "from biobb_structure_checking.structure_checking import StructureChecking\n",
    "from biobb_structure_checking.constants import help, set_defaults\n",
    "base_dir_path = bsch.__path__[0]\n",
    "args = set_defaults(base_dir_path)"
   ]
  },
  {
   "cell_type": "markdown",
   "metadata": {},
   "source": [
    "## General help"
   ]
  },
  {
   "cell_type": "code",
   "execution_count": 3,
   "metadata": {},
   "outputs": [
    {
     "name": "stdout",
     "output_type": "stream",
     "text": [
      "\n",
      "BioBB's check_structure.py performs MDWeb structure checking set as a command line\n",
      "utility.\n",
      "\n",
      "commands:     Help on available commands\n",
      "command_list: Run all tests from conf file or command line list\n",
      "checkall:     Perform all checks without fixes\n",
      "load:         Stores structure on local cache and provides basic statistics\n",
      "\n",
      "1. System Configuration\n",
      "=======================\n",
      "sequences \n",
      "    Print canonical and structure sequences in FASTA format\n",
      "models [--select model_num]\n",
      "    Detect/Select Models\n",
      "chains [--select chain_ids | molecule_type]\n",
      "    Detect/Select Chains\n",
      "inscodes \n",
      "    Detects residues with insertion codes. No fix provided (yet)\n",
      "altloc [--select occupancy| alt_id | list of res_id:alt_id]\n",
      "    Detect/Select Alternative Locations\n",
      "metals [--remove All | None | Met_ids_list | Residue_list]\n",
      "    Detect/Remove Metals\n",
      "ligands [--remove All | None | Res_type_list | Residue_list]\n",
      "    Detect/Remove Ligands\n",
      "getss      Detect SS Bonds\n",
      "    --mark Replace relevant CYS by CYX to mark SS Bond (HG atom removed if present)\n",
      "water [--remove Yes|No]\n",
      "    Remove Water molecules\n",
      "rem_hydrogen [--remove Yes|No]\n",
      "    Remove Hydrogen atoms from structure\n",
      "mutateside [--mut mutation_list] [--no_check_clashes]\n",
      "    Mutate side chain with minimal atom replacement. Allows multiple mutations.\n",
      "    Check generated clashes except --no_check_clashes set\n",
      "    --rebuild Optimize side chains using Modeller. \n",
      "add_hydrogen [--add_mode auto | pH | list | interactive | interactive_his] [--no_fix_side] [--keep_h] [--add_charges FF]\n",
      "    Add Hydrogen Atoms. Auto: std changes at pH 7.0. His->Hie. pH: set pH value\n",
      "    list: Explicit list as [*:]HisXXHid, Interactive[_his]: Prompts for all selectable residues\n",
      "    Fixes missing side chain atoms unless --no_fix_side is set\n",
      "    Existing hydrogen atoms are removed before adding new ones unless --keep_h set.\n",
      "    --add_charges FF adds partial charges (from RES_LIBRARY) and atom types from FF forcefield. Output format taken from file extension.\n",
      "\n",
      "2. Fix Structure Errors\n",
      "\n",
      "amide  [--fix All|None|Residue List] [--no_recheck]\n",
      "    Detect/Fix Amide atoms Assignment\n",
      "    Amide contacts are recheck unless --no_recheck\n",
      "chiral [--fix All|None|Residue List] [--no_check_clashes]\n",
      "    Detect/Fix Improper quirality\n",
      "    Checks generated clashes unless --no_check_clashes set\n",
      "fixside [--fix All |None|Residue List] [--no_check_clashes]\n",
      "    Complete side chains (heavy atoms, protein only)\n",
      "    Checks generated clashes unless --no_check_clashes set\n",
      "    --rebuild  Rebuild complete side chain using Modeller\n",
      "backbone [--fix_atoms All|None|Residue List]\n",
      "         [--fix_main All|None|Break list] \n",
      "         [--add_caps All|None|Break list] \n",
      "         [--extra_gap]\n",
      "         [--no_recheck]\n",
      "         [--no_check_clashes]\n",
      "    Analyze main chain missing atoms and fragments (protein only).\n",
      "    --fix_atoms Missing O, OXT atoms can be fixed \n",
      "    --fix_main Missing fragments filled using comparative modelling (Modeller License needed)\n",
      "    --add_caps Adds ACE and NME residues as necessary, preserving existing atoms\n",
      "    --extra_gap Recovers additional residues from model either side of the break, helps to fix loop connections (experimental)\n",
      "    Rechecks beckbone on each op unless --no_recheck is set.\n",
      "    Generated clashes are checked unless --no_check_clashes\n",
      "\n",
      "\n",
      "3. Structure Warnings (no fix)\n",
      "\n",
      "cistransbck Analyzes cis-trans dihedrals on backbone atoms\n",
      "clashes    Steric clashes (Severe, Apolar, Polar Donors, Polar Acceptors,\n",
      "           Ionic Positive, Ionic Negative)\n",
      "\n"
     ]
    }
   ],
   "source": [
    "help()"
   ]
  },
  {
   "cell_type": "markdown",
   "metadata": {},
   "source": [
    "Set input (PDB or local file, pdb or mmCif formats allowed) and output (local file, pdb format).  \n",
    "Use pdb:pdbid for downloading structure from PDB (RCSB)"
   ]
  },
  {
   "cell_type": "code",
   "execution_count": 4,
   "metadata": {},
   "outputs": [],
   "source": [
    "args['input_structure_path'] = 'pdb:6axg'\n",
    "args['output_structure_path'] = '6axg_fixed.pdb'\n",
    "args['output_structure_path_pdbqt'] = '6axg_fixed.pdbqt'"
   ]
  },
  {
   "cell_type": "markdown",
   "metadata": {},
   "source": [
    "Initializing checking engine, loading structure and showing statistics"
   ]
  },
  {
   "cell_type": "code",
   "execution_count": 5,
   "metadata": {},
   "outputs": [
    {
     "name": "stdout",
     "output_type": "stream",
     "text": [
      "Structure exists: 'tmpPDB/ax/6axg.cif' \n",
      "Structure pdb:6axg loaded\n",
      " PDB id: 6AXG\n",
      " Title: Structure of RasGRP4 in complex with HRas\n",
      " Experimental method: X-RAY DIFFRACTION\n",
      " Keywords: SIGNALING PROTEIN\n",
      " Resolution (A): 3.302\n",
      "\n",
      " Num. models: 1\n",
      " Num. chains: 12 (A: Protein, B: Protein, C: Protein, D: Protein, E: Protein, F: Protein, G: Protein, H: Protein, I: Protein, J: Protein, K: Protein, L: Protein)\n",
      " Num. residues:  2936\n",
      " Num. residues with ins. codes:  0\n",
      " Num. HETATM residues:  0\n",
      " Num. ligands or modified residues:  0\n",
      " Num. water mol.:  0\n",
      " Num. atoms:  23168\n",
      "\n"
     ]
    }
   ],
   "source": [
    "structure = StructureChecking(base_dir_path,args)"
   ]
  },
  {
   "cell_type": "markdown",
   "metadata": {},
   "source": [
    "#### models\n",
    "Checks for the presence of models in the structure. \n",
    "MD simulations require a single structure, although some structures (e.g. biounits) may be defined as a series of models, in such case all of them are usually required.  \n",
    "Use models('--select N') to select model num N for further analysis"
   ]
  },
  {
   "cell_type": "code",
   "execution_count": 6,
   "metadata": {},
   "outputs": [
    {
     "name": "stdout",
     "output_type": "stream",
     "text": [
      "Running models.\n",
      "1 Model(s) detected\n",
      "Single model found\n"
     ]
    }
   ],
   "source": [
    "structure.models()"
   ]
  },
  {
   "cell_type": "markdown",
   "metadata": {},
   "source": [
    "#### chains\n",
    "Checks for chains (also obtained from print_stats), and allow to select one or more.   \n",
    "MD simulations are usually performed with complete structures. However input structure may contain several copies of the system, or contains additional chains like peptides or nucleic acids that may be removed. \n",
    "Use chains('X,Y') to select chain(s) X and Y to proceed"
   ]
  },
  {
   "cell_type": "code",
   "execution_count": 7,
   "metadata": {},
   "outputs": [
    {
     "name": "stdout",
     "output_type": "stream",
     "text": [
      "Running chains.\n",
      "12 Chain(s) detected\n",
      " A: Protein\n",
      " B: Protein\n",
      " C: Protein\n",
      " D: Protein\n",
      " E: Protein\n",
      " F: Protein\n",
      " G: Protein\n",
      " H: Protein\n",
      " I: Protein\n",
      " J: Protein\n",
      " K: Protein\n",
      " L: Protein\n"
     ]
    }
   ],
   "source": [
    "structure.chains()"
   ]
  },
  {
   "cell_type": "markdown",
   "metadata": {},
   "source": [
    "6axg have 6 copies in the crystal assimetric unit, to get a single copy, choose only A and B chains"
   ]
  },
  {
   "cell_type": "code",
   "execution_count": 8,
   "metadata": {},
   "outputs": [
    {
     "name": "stdout",
     "output_type": "stream",
     "text": [
      "Running chains. Options: A,B\n",
      "12 Chain(s) detected\n",
      " A: Protein\n",
      " B: Protein\n",
      " C: Protein\n",
      " D: Protein\n",
      " E: Protein\n",
      " F: Protein\n",
      " G: Protein\n",
      " H: Protein\n",
      " I: Protein\n",
      " J: Protein\n",
      " K: Protein\n",
      " L: Protein\n",
      "Selecting chain(s) A,B\n"
     ]
    }
   ],
   "source": [
    "structure.chains('A,B')"
   ]
  },
  {
   "cell_type": "markdown",
   "metadata": {},
   "source": [
    "#### altloc\n",
    "Checks for the presence of residues with alternative locations. Atoms with alternative coordinates and their occupancy are reported.  \n",
    "MD simulations requires a single position for each atom.  \n",
    "Use altloc('occupancy | alt_ids | list of res:id) to select the alternative\n"
   ]
  },
  {
   "cell_type": "code",
   "execution_count": 9,
   "metadata": {},
   "outputs": [
    {
     "name": "stdout",
     "output_type": "stream",
     "text": [
      "Running altloc.\n",
      "No residues with alternative location labels detected\n"
     ]
    }
   ],
   "source": [
    "structure.altloc()"
   ]
  },
  {
   "cell_type": "markdown",
   "metadata": {},
   "source": [
    "#### metals\n",
    "Detects HETATM being metal ions allow to selectively remove them.  \n",
    "To remove use metals (' All | None | metal_type list | residue list ')"
   ]
  },
  {
   "cell_type": "code",
   "execution_count": 10,
   "metadata": {},
   "outputs": [
    {
     "name": "stdout",
     "output_type": "stream",
     "text": [
      "Running metals.\n",
      "No metal ions found\n"
     ]
    }
   ],
   "source": [
    "structure.metals()"
   ]
  },
  {
   "cell_type": "markdown",
   "metadata": {},
   "source": [
    "#### ligands\n",
    "Detects HETATM (excluding Water molecules) to selectively remove them.  \n",
    "To remove use ligands('All | None | Residue List (by id, by num)')\n"
   ]
  },
  {
   "cell_type": "code",
   "execution_count": 11,
   "metadata": {},
   "outputs": [
    {
     "name": "stdout",
     "output_type": "stream",
     "text": [
      "Running ligands.\n",
      "No ligands found\n"
     ]
    }
   ],
   "source": [
    "structure.ligands()"
   ]
  },
  {
   "cell_type": "markdown",
   "metadata": {},
   "source": [
    "#### rem_hydrogen\n",
    "Detects and remove hydrogen atoms. \n",
    "MD setup can be done with the original H atoms, however to prevent from non standard labelling, remove them is safer.  \n",
    "To remove use rem_hydrogen('yes')\n"
   ]
  },
  {
   "cell_type": "code",
   "execution_count": 12,
   "metadata": {},
   "outputs": [
    {
     "name": "stdout",
     "output_type": "stream",
     "text": [
      "Running rem_hydrogen.\n",
      "No residues with Hydrogen atoms found\n"
     ]
    }
   ],
   "source": [
    "structure.rem_hydrogen()"
   ]
  },
  {
   "cell_type": "markdown",
   "metadata": {},
   "source": [
    "#### water\n",
    "Detects water molecules and allows to remove them\n",
    "Crystallographic water molecules may be relevant for keeping the structure, however in most cases only some of them are required. These can be later added using other methods (titration) or manually.\n",
    "\n",
    "To remove water molecules use water('yes')\n"
   ]
  },
  {
   "cell_type": "code",
   "execution_count": 13,
   "metadata": {},
   "outputs": [
    {
     "name": "stdout",
     "output_type": "stream",
     "text": [
      "Running water.\n",
      "No water molecules found\n"
     ]
    }
   ],
   "source": [
    "structure.water()"
   ]
  },
  {
   "cell_type": "markdown",
   "metadata": {},
   "source": [
    "#### amide\n",
    "Amide terminal atoms in Asn ang Gln residues can be labelled incorrectly.  \n",
    "amide suggests possible fixes by checking the sourrounding environent.\n",
    "\n",
    "To fix use amide ('All | None | residue_list')\n",
    "\n",
    "Note that the inversion of amide atoms may trigger additional contacts. "
   ]
  },
  {
   "cell_type": "code",
   "execution_count": 14,
   "metadata": {},
   "outputs": [
    {
     "name": "stdout",
     "output_type": "stream",
     "text": [
      "Running amide.\n",
      "9 unusual contact(s) involving amide atoms found\n",
      " LEU A103.O   GLN A107.OE1    2.782 A\n",
      " THR A104.O   GLN A107.OE1    2.867 A\n",
      " GLU A134.OE2 GLN A223.OE1    3.066 A\n",
      " ASP A139.OD1 GLN A141.OE1    2.784 A\n",
      " ASN A248.OD1 GLU B63.O       2.760 A\n",
      " PRO A262.O   GLN A266.OE1    3.066 A\n",
      " GLN A285.OE1 ALA A344.O      2.867 A\n",
      " PRO A377.O   ASN A381.OD1    2.976 A\n",
      " ALA A391.O   GLN A395.OE1    2.601 A\n"
     ]
    }
   ],
   "source": [
    "structure.amide()"
   ]
  },
  {
   "cell_type": "markdown",
   "metadata": {},
   "source": [
    "Fix all amide residues and recheck"
   ]
  },
  {
   "cell_type": "code",
   "execution_count": 15,
   "metadata": {},
   "outputs": [
    {
     "name": "stdout",
     "output_type": "stream",
     "text": [
      "Running amide. Options: all\n",
      "9 unusual contact(s) involving amide atoms found\n",
      " LEU A103.O   GLN A107.OE1    2.782 A\n",
      " THR A104.O   GLN A107.OE1    2.867 A\n",
      " GLU A134.OE2 GLN A223.OE1    3.066 A\n",
      " ASP A139.OD1 GLN A141.OE1    2.784 A\n",
      " ASN A248.OD1 GLU B63.O       2.760 A\n",
      " PRO A262.O   GLN A266.OE1    3.066 A\n",
      " GLN A285.OE1 ALA A344.O      2.867 A\n",
      " PRO A377.O   ASN A381.OD1    2.976 A\n",
      " ALA A391.O   GLN A395.OE1    2.601 A\n",
      "Amide residues fixed all (8)\n",
      "Rechecking\n",
      "4 unusual contact(s) involving amide atoms found\n",
      " GLU A134.OE2 GLN A223.OE1    2.730 A\n",
      " VAL A244.O   ASN A248.OD1    2.772 A\n",
      " ASN A248.ND2 SER B65.N       3.064 A\n",
      " ASN A248.OD1 GLU B63.O       3.071 A\n"
     ]
    }
   ],
   "source": [
    "structure.amide('all')"
   ]
  },
  {
   "cell_type": "markdown",
   "metadata": {},
   "source": [
    "Comparing both checks it becomes clear that GLN A233 and ASN A248 are now in a worse situation, so should be changed back to the original labelling"
   ]
  },
  {
   "cell_type": "code",
   "execution_count": 16,
   "metadata": {},
   "outputs": [
    {
     "name": "stdout",
     "output_type": "stream",
     "text": [
      "Running amide. Options: A223,A248\n",
      "4 unusual contact(s) involving amide atoms found\n",
      " GLU A134.OE2 GLN A223.OE1    2.730 A\n",
      " VAL A244.O   ASN A248.OD1    2.772 A\n",
      " ASN A248.ND2 SER B65.N       3.064 A\n",
      " ASN A248.OD1 GLU B63.O       3.071 A\n",
      "Amide residues fixed A223,A248 (2)\n",
      "Rechecking\n",
      "2 unusual contact(s) involving amide atoms found\n",
      " GLU A134.OE2 GLN A223.OE1    3.066 A\n",
      " ASN A248.OD1 GLU B63.O       2.760 A\n"
     ]
    }
   ],
   "source": [
    "structure.amide('A223,A248')"
   ]
  },
  {
   "cell_type": "markdown",
   "metadata": {},
   "source": [
    "#### chiral\n",
    "Side chains of Thr and Ile are chiral, incorrect atom labelling lead to the wrong chirality.  \n",
    "To fix use chiral('All | None | residue_list')"
   ]
  },
  {
   "cell_type": "code",
   "execution_count": 17,
   "metadata": {},
   "outputs": [
    {
     "name": "stdout",
     "output_type": "stream",
     "text": [
      "Running chiral.\n",
      "No residues with incorrect side-chain chirality found\n"
     ]
    }
   ],
   "source": [
    "structure.chiral()"
   ]
  },
  {
   "cell_type": "markdown",
   "metadata": {},
   "source": [
    "#### Backbone\n",
    "Detects and fixes several problems with the backbone\n",
    "use any of \n",
    "--fix_atoms All|None|Residue List \n",
    "--fix_chain All|None|Break list\n",
    "--add_caps All|None|Terms|Breaks|Residue list\n",
    "--no_recheck\n",
    "--no_check_clashes\n"
   ]
  },
  {
   "cell_type": "code",
   "execution_count": 18,
   "metadata": {
    "scrolled": false
   },
   "outputs": [
    {
     "name": "stdout",
     "output_type": "stream",
     "text": [
      "Running backbone.\n",
      "7 Residues with missing backbone atoms found\n",
      " SER A74    OXT\n",
      " LYS A108   OXT\n",
      " ASP A169   OXT\n",
      " GLU A430   OXT\n",
      " ASN B26    OXT\n",
      " LYS B117   OXT\n",
      " HIS B166   OXT\n",
      "5 Backbone breaks found\n",
      " SER A74    - ASP A79    \n",
      " LYS A108   - ASP A112   \n",
      " ASP A169   - LEU A195   \n",
      " ASN B26    - ASP B33    \n",
      " LYS B117   - ALA B122   \n",
      "No unexpected backbone links\n"
     ]
    }
   ],
   "source": [
    "structure.backbone()"
   ]
  },
  {
   "cell_type": "markdown",
   "metadata": {},
   "source": [
    "Re-building backbone breaks with Modeller (Modeller requires a license key)"
   ]
  },
  {
   "cell_type": "code",
   "execution_count": 30,
   "metadata": {},
   "outputs": [
    {
     "name": "stdout",
     "output_type": "stream",
     "text": [
      "Running backbone. Options: {'fix_chain': 'all', 'add_caps': 'none', 'fix_atoms': 'none', 'no_recheck': True}\n",
      "1 Residues with missing backbone atoms found\n",
      " ASP A169   OXT\n",
      "1 Backbone breaks found\n",
      " ASP A169   - LEU A170   \n",
      "No unexpected backbone links\n",
      "Consecutive residues too far away to be covalently linked\n",
      " ASP A169   - LEU A170  , bond distance    6.793 \n",
      "Main chain fixes\n",
      "Fixing chain/model A/0\n",
      "0 atoms in HETATM/BLK residues constrained\n",
      "to protein atoms within 2.30 angstroms\n",
      "and protein CA atoms within 10.00 angstroms\n",
      "0 atoms in residues without defined topology\n",
      "constrained to be rigid bodies\n",
      ">> Model assessment by DOPE potential\n",
      "DOPE score               : -41859.894531\n",
      "\n",
      ">> Summary of successfully produced models:\n",
      "Filename                          molpdf     DOPE score    GA341 score\n",
      "----------------------------------------------------------------------\n",
      "target.B99990001.pdb          1722.17029   -41859.89453        1.00000\n",
      "\n",
      "Fixing ASP A169 - LEU A170\n",
      "  Adding ASP A169\n",
      "  Adding LEU A170\n",
      "\n",
      "1 Residues with missing backbone atoms found\n",
      " LEU A170   OXT\n",
      "1 Backbone breaks found\n",
      " LEU A170   - LEU A171   \n",
      "No unexpected backbone links\n",
      "Consecutive residues too far away to be covalently linked\n",
      " LEU A170   - LEU A171  , bond distance    6.410 \n",
      "Capping terminal ends\n",
      "True terminal residues:  A61,A430,B1\n",
      "Terminal residues from backbone breaks:  A170-A171\n",
      "No caps added\n",
      "Fixing missing backbone atoms\n",
      "Checking for steric clashes\n",
      "No severe clashes detected\n",
      "No apolar clashes detected\n",
      "No polar_acceptor clashes detected\n",
      "No polar_donor clashes detected\n",
      "No positive clashes detected\n",
      "No negative clashes detected\n"
     ]
    }
   ],
   "source": [
    "args['modeller_key'] = 'XXXXXXXXX' #Need to register to Modeller\n",
    "opts = {\n",
    "    'fix_chain': 'all',\n",
    "    'add_caps' : 'none',\n",
    "    'fix_atoms': 'none',\n",
    "    'no_recheck': True\n",
    "}\n",
    "structure.backbone(opts)\n",
    "#structure.backbone('--fix_chain all --add_caps none --fix_atoms none --no_recheck')"
   ]
  },
  {
   "cell_type": "markdown",
   "metadata": {},
   "source": [
    "#### fixside\n",
    "Detects and re-built missing protein side chains.   \n",
    "To fix use fixside('All | None | residue_list')"
   ]
  },
  {
   "cell_type": "code",
   "execution_count": 31,
   "metadata": {},
   "outputs": [
    {
     "name": "stdout",
     "output_type": "stream",
     "text": [
      "Running fixside.\n",
      "No residues with missing or unknown side chain atoms found\n"
     ]
    }
   ],
   "source": [
    "structure.fixside()"
   ]
  },
  {
   "cell_type": "markdown",
   "metadata": {},
   "source": [
    "#### getss\n",
    "Detects possible -S-S- bonds based on distance criteria.\n",
    "Proper simulation requires those bonds to be correctly set."
   ]
  },
  {
   "cell_type": "code",
   "execution_count": 32,
   "metadata": {},
   "outputs": [
    {
     "name": "stdout",
     "output_type": "stream",
     "text": [
      "Running getss.\n",
      "No SS bonds detected\n"
     ]
    }
   ],
   "source": [
    "structure.getss()"
   ]
  },
  {
   "cell_type": "markdown",
   "metadata": {},
   "source": [
    "#### Add_hydrogens\n",
    " Add Hydrogen Atoms. Auto: std changes at pH 7.0. His->Hie. pH: set pH value\n",
    "    list: Explicit list as [*:]HisXXHid, Interactive[_his]: Prompts for all selectable residues\n",
    "    Fixes missing side chain atoms unless --no_fix_side is set\n",
    "    Existing hydrogen atoms are removed before adding new ones unless --keep_h set."
   ]
  },
  {
   "cell_type": "code",
   "execution_count": 33,
   "metadata": {},
   "outputs": [
    {
     "name": "stdout",
     "output_type": "stream",
     "text": [
      "Running add_hydrogen.\n",
      "149 Residues requiring selection on adding H atoms\n",
      " CYS A65,A76,A122,A237,A298,A343,A399,B51,B80,B118\n",
      " ASP A70,A79,A97,A112,A139,A166,A169,A198,A224,A272,A307,A315,A357,A367,A371,A404,A414,A420,B30,B33,B38,B47,B54,B57,B69,B92,B105,B107,B108,B119,B132,B154\n",
      " GLU A63,A78,A115,A134,A143,A144,A156,A201,A204,A213,A241,A322,A325,A363,A388,A403,A419,A421,A424,A430,B3,B31,B37,B49,B62,B63,B76,B91,B98,B126,B143,B153,B162\n",
      " LYS A64,A108,A189,A190,A192,A273,A306,A318,A356,A378,B5,B16,B42,B88,B101,B104,B117,B147\n",
      " ARG A101,A117,A118,A126,A131,A148,A155,A162,A163,A191,A215,A226,A235,A252,A261,A267,A280,A304,A335,A337,A338,A347,A368,A373,A385,A429,B41,B68,B73,B97,B102,B123,B128,B135,B149,B161,B164\n",
      " TYR A106,A127,A211,A228,A333,A336,A383,A417,A423,A427,B4,B32,B40,B64,B71,B96,B137,B141,B157\n"
     ]
    }
   ],
   "source": [
    "structure.add_hydrogen()"
   ]
  },
  {
   "cell_type": "markdown",
   "metadata": {},
   "source": [
    "#### clashes\n",
    "Detects steric clashes based on distance criteria.  \n",
    "Contacts are classified in: \n",
    "* Severe: Too close atoms, usually indicating superimposed structures or badly modelled regions. Should be fixed.\n",
    "* Apolar: Vdw colissions.Usually fixed during the simulation.\n",
    "* Polar and ionic. Usually indicate wrong side chain conformations. Usually fixed during the simulation\n"
   ]
  },
  {
   "cell_type": "code",
   "execution_count": 34,
   "metadata": {},
   "outputs": [
    {
     "name": "stdout",
     "output_type": "stream",
     "text": [
      "Running clashes.\n"
     ]
    }
   ],
   "source": [
    "structure.clashes()"
   ]
  },
  {
   "cell_type": "markdown",
   "metadata": {},
   "source": [
    "Complete check in a single method"
   ]
  },
  {
   "cell_type": "code",
   "execution_count": null,
   "metadata": {},
   "outputs": [
    {
     "name": "stdout",
     "output_type": "stream",
     "text": [
      "Running models.\n",
      "1 Model(s) detected\n",
      "Single model found\n",
      "Running chains.\n",
      "2 Chain(s) detected\n",
      " A: Protein\n",
      " B: Protein\n",
      "Running inscodes.\n",
      "No residues with insertion codes found\n",
      "Running altloc.\n",
      "No residues with alternative location labels detected\n",
      "Running rem_hydrogen.\n",
      "No residues with Hydrogen atoms found\n",
      "Running add_hydrogen.\n",
      "171 Residues requiring selection on adding H atoms\n",
      " CYS A65,A76,A122,A237,A298,A343,A399,B51,B80,B118\n",
      " ASP A70,A79,A97,A112,A139,A166,A169,A198,A224,A272,A307,A315,A357,A367,A371,A404,A414,A420,B30,B33,B38,B47,B54,B57,B69,B92,B105,B107,B108,B119,B132,B154\n",
      " GLU A63,A78,A115,A134,A143,A144,A156,A201,A204,A213,A241,A322,A325,A363,A388,A403,A419,A421,A424,A430,B3,B31,B37,B49,B62,B63,B76,B91,B98,B126,B143,B153,B162\n",
      " HIS A77,A80,A89,A123,A132,A137,A199,A208,A276,A282,A299,A309,A311,A330,A354,A362,A375,A396,A407,B27,B94,B166\n",
      " LYS A64,A108,A189,A190,A192,A273,A306,A318,A356,A378,B5,B16,B42,B88,B101,B104,B117,B147\n",
      " ARG A101,A117,A118,A126,A131,A148,A155,A162,A163,A191,A215,A226,A235,A252,A261,A267,A280,A304,A335,A337,A338,A347,A368,A373,A385,A429,B41,B68,B73,B97,B102,B123,B128,B135,B149,B161,B164\n",
      " TYR A106,A127,A211,A228,A333,A336,A383,A417,A423,A427,B4,B32,B40,B64,B71,B96,B137,B141,B157\n",
      "Running water.\n",
      "No water molecules found\n",
      "Running metals.\n",
      "No metal ions found\n",
      "Running ligands.\n",
      "No ligands found\n",
      "Running getss.\n",
      "No SS bonds detected\n",
      "Running amide.\n",
      "3 unusual contact(s) involving amide atoms found\n",
      " GLU A134.OE2 GLN A223.OE1    3.066 A\n",
      " ASN A248.OD1 GLU B63.O       2.760 A\n",
      " GLN B25.NE2  HIS B27.N       1.516 A\n",
      "Running chiral.\n",
      "No residues with incorrect side-chain chirality found\n",
      "Running chiral_bck.\n",
      "No residues with incorrect backbone chirality found\n",
      "Running fixside.\n",
      "12 Residues with missing side chain atoms found\n",
      " LEU A93    CG,CD1,CD2\n",
      " LEU A119   CG,CD1,CD2\n",
      " GLU A143   CG,CD,OE1,OE2\n",
      " GLN A161   CG,CD,OE1,NE2\n",
      " ARG A162   CG,CD,NE,CZ,NH1,NH2\n",
      " ARG A163   CG,CD,NE,CZ,NH1,NH2\n",
      " LEU A164   CG,CD1,CD2\n",
      " ASP A166   CG,OD1,OD2\n",
      " SER A167   OG\n",
      " SER A168   OG\n",
      " GLN B150   CG,CD,OE1,NE2\n",
      " GLN B165   CG,CD,OE1,NE2\n",
      "Running backbone.\n",
      "4 Residues with missing backbone atoms found\n",
      " SER A168   OXT\n",
      " LEU A195   OXT\n",
      " GLU A430   OXT\n",
      " HIS B166   OXT\n",
      "2 Backbone breaks found\n",
      " SER A168   - ASP A169   \n",
      " LEU A195   - LEU A196   \n",
      "No unexpected backbone links\n",
      "Consecutive residues too far away to be covalently linked\n",
      " SER A168   - ASP A169  , bond distance    6.291 \n",
      " LEU A195   - LEU A196  , bond distance    4.205 \n",
      "Running cistransbck.\n",
      "No cis peptide bonds found\n",
      "5 trans peptide bonds with unusual omega dihedrals\n",
      "ARG A347   LEU A348   Dihedral: -151.409\n",
      "LEU A348   PRO A349   Dihedral:  132.398\n",
      "ILE B24    GLN B25    Dihedral: -158.618\n",
      "ASP A112   THR A113   Dihedral:  125.676\n",
      "GLN A114   GLU A115   Dihedral:  157.244\n",
      "Running clashes.\n",
      "1 Steric severe clashes detected\n",
      " SER A194.CA  HIS A199.NE2    0.396 A\n",
      "14 Steric apolar clashes detected\n",
      " SER A71.CB   SER A74.OG      2.382 A\n",
      " ASP A79.OD1  LEU A82.CB      2.589 A\n",
      " LEU A119.O   HIS A123.CD2    2.883 A\n",
      " ARG A163.O   SER A167.CB     2.436 A\n",
      " VAL A193.O   HIS A199.CG     1.061 A\n",
      " SER A194.CA  HIS A199.NE2    0.396 A\n",
      " LEU A195.N   HIS A199.CE1    1.841 A\n",
      " LEU A195.CD1 ASP A198.OD1    2.223 A\n",
      " GLU A204.O   HIS A208.CD2    2.822 A\n",
      " HIS A299.CE1 ASP B69.OD2     2.657 A\n",
      " GLY A352.O   LEU A355.CB     2.888 A\n",
      " GLU A363.CD  SER B17.OG      2.836 A\n",
      " ASP B33.O    SER B39.CB      2.878 A\n",
      " CYS B118.CB  SER B145.OG     2.700 A\n",
      "12 Steric polar_acceptor clashes detected\n",
      " HIS A89.O    LEU A93.O       2.725 A\n",
      " THR A110.O   ASP A112.O      3.037 A\n",
      " GLU A134.OE2 GLN A223.OE1    3.066 A\n",
      " ASN A248.OD1 GLU B63.O       2.760 A\n",
      " GLN A285.O   ARG A347.O      2.752 A\n",
      " ARG A304.O   GLU A430.OE1    2.878 A\n",
      " THR A418.O   GLU A421.OE1    3.062 A\n",
      " VAL B9.O     LEU B79.O       2.654 A\n",
      " PRO B34.O    ILE B36.O       3.001 A\n",
      " VAL B44.O    CYS B51.O       2.824 A\n",
      " ILE B46.O    GLU B49.O       2.749 A\n",
      " ARG B128.O   ASP B132.OD2    3.024 A\n",
      "2 Steric polar_donor clashes detected\n",
      " GLN B25.NE2  HIS B27.N       1.516 A\n",
      " ARG B123.NH2 SER B127.N      3.075 A\n",
      "No positive clashes detected\n",
      "No negative clashes detected\n",
      "Running sequences.\n",
      "Canonical sequence\n",
      ">can_sq_A canonical sequence chain A\n",
      "SNAMNLGLLSEGGCSEDELLEKCIQSFDSAGSLCHEDHMLNMVLAMHSWVLPSADLAARL\n",
      "LTSYQKATGDTQELRRLQICHLVRYWLMRHPEVMHQDPQLEEVIGRFWATVAREGNSAQR\n",
      "RLGDSSDLLSPGGPGPPLPMSSPGLGKKRKVSLLFDHLETGELAQHLTYLEFRSFQAITP\n",
      "QDLRSYVLQGSVRGCPALEGSVGLSNSVSRWVQVMVLSRPGPLQRAQVLDKFIHVAQRLH\n",
      "QLQNFNTLMAVTGGLCHSAISRLKDSHAHLSPDSTKALLELTELLASHNNYARYRRTWAG\n",
      "CAGFRLPVLGVHLKDLVSLHEAQPDRLPDGRLHLPKLNNLYLRLQELVALQGQHPPCSAN\n",
      "EDLLHLLTLSLDLFYTEDEIYELSYAREPRCPKSLPPSPFNAPLVVEWAPGVTPKPDR\n",
      ">can_sq_B canonical sequence chain B\n",
      "GAMAMTEYKLVVVGAGGVGKSALTIQLIQNHFVDEYDPTIEDSYRKQVVIDGETCLLDIL\n",
      "DTAGQEEYSAMRDQYMRTGEGFLCVFAINNTKSFEDIHQYREQIKRVKDSDDVPMVLVGN\n",
      "KCDLAARTVESRQAQDLARSYGIPYIETSAKTRQGVEDAFYTLVREIRQH\n",
      "\n",
      "Structure sequence\n",
      ">pdb_sq_A Frags: 169-195,196-430\n",
      "------------------LLEKCIQSFDSAGSLCHEDHMLNMVLAMHSWVLPSADLAARL\n",
      "LTSYQKATGDTQELRRLQICHLVRYWLMRHPEVMHQDPQLEEVIGRFWATVAREGNSAQR\n",
      "RLGDSSDLLSPGGPGPPLPMSSPGLGKKRKVSLLFDHLETGELAQHLTYLEFRSFQAITP\n",
      "QDLRSYVLQGSVRGCPALEGSVGLSNSVSRWVQVMVLSRPGPLQRAQVLDKFIHVAQRLH\n",
      "QLQNFNTLMAVTGGLCHSAISRLKDSHAHLSPDSTKALLELTELLASHNNYARYRRTWAG\n",
      "CAGFRLPVLGVHLKDLVSLHEAQPDRLPDGRLHLPKLNNLYLRLQELVALQGQHPPCSAN\n",
      "EDLLHLLTLSLDLFYTEDEIYELSYARE------------------------------\n",
      ">pdb_sq_B Frags: \n",
      "----MTEYKLVVVGAGGVGKSALTIQLIQNHFVDEYDPTIEDSYRKQVVIDGETCLLDIL\n",
      "DTAGQEEYSAMRDQYMRTGEGFLCVFAINNTKSFEDIHQYREQIKRVKDSDDVPMVLVGN\n",
      "KCDLAARTVESRQAQDLARSYGIPYIETSAKTRQGVEDAFYTLVREIRQH\n",
      "\n"
     ]
    }
   ],
   "source": [
    "structure.checkall()"
   ]
  },
  {
   "cell_type": "code",
   "execution_count": null,
   "metadata": {},
   "outputs": [
    {
     "data": {
      "text/plain": [
       "'6axg_fixed.pdb'"
      ]
     },
     "execution_count": 25,
     "metadata": {},
     "output_type": "execute_result"
    }
   ],
   "source": [
    "structure.save_structure(args['output_structure_path'])"
   ]
  },
  {
   "cell_type": "code",
   "execution_count": null,
   "metadata": {},
   "outputs": [
    {
     "data": {
      "application/vnd.jupyter.widget-view+json": {
       "model_id": "5073f7fb7fc8409686370f864d90754b",
       "version_major": 2,
       "version_minor": 0
      },
      "text/plain": []
     },
     "metadata": {},
     "output_type": "display_data"
    },
    {
     "data": {
      "application/vnd.jupyter.widget-view+json": {
       "model_id": "30b7f7c3e65b4668bff0f73fe51eec19",
       "version_major": 2,
       "version_minor": 0
      },
      "text/plain": [
       "NGLWidget()"
      ]
     },
     "metadata": {},
     "output_type": "display_data"
    }
   ],
   "source": [
    "import nglview as nv\n",
    "nv.show_biopython(structure.strucm.st[0])"
   ]
  },
  {
   "cell_type": "code",
   "execution_count": 27,
   "metadata": {},
   "outputs": [
    {
     "name": "stdout",
     "output_type": "stream",
     "text": [
      "Running backbone. Options: {'fix_atoms': 'A430', 'fix_chain': 'all', 'add_caps': 'none', 'no_recheck': True}\n",
      "4 Residues with missing backbone atoms found\n",
      " SER A168   OXT\n",
      " LEU A195   OXT\n",
      " GLU A430   OXT\n",
      " HIS B166   OXT\n",
      "2 Backbone breaks found\n",
      " SER A168   - ASP A169   \n",
      " LEU A195   - LEU A196   \n",
      "No unexpected backbone links\n",
      "Consecutive residues too far away to be covalently linked\n",
      " SER A168   - ASP A169  , bond distance    6.291 \n",
      " LEU A195   - LEU A196  , bond distance    4.205 \n",
      "Main chain fixes\n",
      "Fixing chain/model A/0\n",
      "0 atoms in HETATM/BLK residues constrained\n",
      "to protein atoms within 2.30 angstroms\n",
      "and protein CA atoms within 10.00 angstroms\n",
      "0 atoms in residues without defined topology\n",
      "constrained to be rigid bodies\n",
      ">> Model assessment by DOPE potential\n",
      "DOPE score               : -42173.949219\n",
      "\n",
      ">> Summary of successfully produced models:\n",
      "Filename                          molpdf     DOPE score    GA341 score\n",
      "----------------------------------------------------------------------\n",
      "target.B99990001.pdb          1821.56580   -42173.94922        1.00000\n",
      "\n",
      "Fixing SER A168 - ASP A169\n",
      "  Adding SER A168\n",
      "  Adding ASP A169\n",
      "\n",
      "Fixing LEU A195 - LEU A196\n",
      "  Adding LEU A195\n",
      "  Adding LEU A196\n",
      "\n",
      "3 Residues with missing backbone atoms found\n",
      " ASP A169   OXT\n",
      " GLU A430   OXT\n",
      " HIS B166   OXT\n",
      "1 Backbone breaks found\n",
      " ASP A169   - LEU A170   \n",
      "No unexpected backbone links\n",
      "Consecutive residues too far away to be covalently linked\n",
      " ASP A169   - LEU A170  , bond distance    6.793 \n",
      "Capping terminal ends\n",
      "True terminal residues:  A61,A430,B1,B166\n",
      "Terminal residues from backbone breaks:  A169-A170\n",
      "No caps added\n",
      "Fixing missing backbone atoms\n",
      "Adding missing backbone atoms\n",
      "GLU A430\n",
      "  Adding new atom OXT\n",
      "Fixed 1 backbone atom(s)\n",
      "Checking for steric clashes\n",
      "No severe clashes detected\n",
      "3 Steric apolar clashes detected\n",
      " LEU A195.N   HIS A199.CD2    2.228 A\n",
      " LEU A195.CD1 ASP A198.O      2.280 A\n",
      " LEU A196.N   HIS A199.CE1    2.529 A\n",
      "1 Steric polar_acceptor clashes detected\n",
      " TYR A427.O   CGLU A430.OXT    2.827 A\n",
      "No polar_donor clashes detected\n",
      "No positive clashes detected\n",
      "No negative clashes detected\n"
     ]
    }
   ],
   "source": [
    "#structure.backbone('--fix_atoms A430 --fix_chain all --add_caps none --no_recheck')\n",
    "opts = {\n",
    "    'fix_atoms':'A430',\n",
    "    'fix_chain':'all',\n",
    "    'add_caps':'none',\n",
    "    'no_recheck': True,\n",
    "}\n",
    "structure.backbone(opts)"
   ]
  },
  {
   "cell_type": "code",
   "execution_count": 28,
   "metadata": {},
   "outputs": [
    {
     "name": "stdout",
     "output_type": "stream",
     "text": [
      "Running add_hydrogen. Options: {'add_mode': 'auto', 'add_charges': 'ADT'}\n",
      "171 Residues requiring selection on adding H atoms\n",
      " CYS A65,A76,A122,A237,A298,A343,A399,B51,B80,B118\n",
      " ASP A70,A79,A97,A112,A139,A166,A169,A198,A224,A272,A307,A315,A357,A367,A371,A404,A414,A420,B30,B33,B38,B47,B54,B57,B69,B92,B105,B107,B108,B119,B132,B154\n",
      " GLU A63,A78,A115,A134,A143,A144,A156,A201,A204,A213,A241,A322,A325,A363,A388,A403,A419,A421,A424,B3,B31,B37,B49,B62,B63,B76,B91,B98,B126,B143,B153,B162\n",
      " HIS A77,A80,A89,A123,A132,A137,A199,A208,A276,A282,A299,A309,A311,A330,A354,A362,A375,A396,A407,B27,B94,B166\n",
      " LYS A64,A108,A189,A190,A192,A273,A306,A318,A356,A378,B5,B16,B42,B88,B101,B104,B117,B147\n",
      " ARG A101,A117,A118,A126,A131,A148,A155,A162,A163,A191,A215,A226,A235,A252,A261,A267,A280,A304,A335,A337,A338,A347,A368,A373,A385,A429,B41,B68,B73,B97,B102,B123,B128,B135,B149,B161,B164\n",
      " TYR A106,A127,A211,A228,A333,A336,A383,A417,A423,A427,B4,B32,B40,B64,B71,B96,B137,B141,B157\n",
      "WARNING: fixing side chains, override with --no_fix_side\n",
      "Running fixside. Options: --fix all\n",
      "11 Residues with missing side chain atoms found\n",
      " LEU A93    CG,CD1,CD2\n",
      " LEU A119   CG,CD1,CD2\n",
      " GLU A143   CG,CD,OE1,OE2\n",
      " GLN A161   CG,CD,OE1,NE2\n",
      " ARG A162   CG,CD,NE,CZ,NH1,NH2\n",
      " ARG A163   CG,CD,NE,CZ,NH1,NH2\n",
      " LEU A164   CG,CD1,CD2\n",
      " ASP A166   CG,OD1,OD2\n",
      " SER A167   OG\n",
      " GLN B150   CG,CD,OE1,NE2\n",
      " GLN B165   CG,CD,OE1,NE2\n",
      "Fixing side chains\n",
      "LEU A93\n",
      "  Adding new atom CG\n",
      "  Adding new atom CD1\n",
      "  Adding new atom CD2\n",
      "LEU A119\n",
      "  Adding new atom CG\n",
      "  Adding new atom CD1\n",
      "  Adding new atom CD2\n",
      "GLU A143\n",
      "  Adding new atom CG\n",
      "  Adding new atom CD\n",
      "  Adding new atom OE1\n",
      "  Adding new atom OE2\n",
      "GLN A161\n",
      "  Adding new atom CG\n",
      "  Adding new atom CD\n",
      "  Adding new atom OE1\n",
      "  Adding new atom NE2\n",
      "ARG A162\n",
      "  Adding new atom CG\n",
      "  Adding new atom CD\n",
      "  Adding new atom NE\n",
      "  Adding new atom CZ\n",
      "  Adding new atom NH1\n",
      "  Adding new atom NH2\n",
      "ARG A163\n",
      "  Adding new atom CG\n",
      "  Adding new atom CD\n",
      "  Adding new atom NE\n",
      "  Adding new atom CZ\n",
      "  Adding new atom NH1\n",
      "  Adding new atom NH2\n",
      "LEU A164\n",
      "  Adding new atom CG\n",
      "  Adding new atom CD1\n",
      "  Adding new atom CD2\n",
      "ASP A166\n",
      "  Adding new atom CG\n",
      "  Adding new atom OD1\n",
      "  Adding new atom OD2\n",
      "SER A167\n",
      "  Adding new atom OG\n",
      "GLN B150\n",
      "  Adding new atom CG\n",
      "  Adding new atom CD\n",
      "  Adding new atom OE1\n",
      "  Adding new atom NE2\n",
      "GLN B165\n",
      "  Adding new atom CG\n",
      "  Adding new atom CD\n",
      "  Adding new atom OE1\n",
      "  Adding new atom NE2\n",
      "Fixed 11 side chain(s)\n",
      "Checking for steric clashes\n",
      "No severe clashes detected\n",
      "11 Steric apolar clashes detected\n",
      " LEU A119.O   HIS A123.CD2    2.883 A\n",
      " CYS A122.O   ARG A163.CZ     1.742 A\n",
      " CYS A122.CB  GLN A161.NE2    2.583 A\n",
      " VAL A125.CB  ARG A163.NH2    1.711 A\n",
      " ARG A126.N   ARG A163.CZ     2.365 A\n",
      " TRP A150.CB  LEU A164.CD1    2.826 A\n",
      " TRP A150.CZ3 GLN A161.NE2    2.555 A\n",
      " TRP A150.CH2 ARG A163.NE     1.914 A\n",
      " VAL A153.CG1 GLN A161.OE1    2.643 A\n",
      " ALA A154.CB  LEU A164.CD2    2.673 A\n",
      " ARG A163.O   SER A167.CB     2.436 A\n",
      "1 Steric polar_acceptor clashes detected\n",
      " HIS A89.O    LEU A93.O       2.725 A\n",
      "3 Steric polar_donor clashes detected\n",
      " HIS A123.N   ARG A163.NH1    3.053 A\n",
      " VAL A125.N   ARG A163.NH2    2.679 A\n",
      " ARG A126.N   ARG A163.NH2    1.698 A\n",
      "No positive clashes detected\n",
      "No negative clashes detected\n",
      "Selection: auto\n",
      "Replacing HIS A77 by HIE\n",
      "Replacing HIS A80 by HIE\n",
      "Replacing HIS A89 by HIE\n",
      "Replacing HIS A123 by HIE\n",
      "Replacing HIS A132 by HIE\n",
      "Replacing HIS A137 by HIE\n",
      "Replacing HIS A199 by HIE\n",
      "Replacing HIS A208 by HIE\n",
      "Replacing HIS A276 by HIE\n",
      "Replacing HIS A282 by HIE\n",
      "Replacing HIS A299 by HIE\n",
      "Replacing HIS A309 by HIE\n",
      "Replacing HIS A311 by HIE\n",
      "Replacing HIS A330 by HIE\n",
      "Replacing HIS A354 by HIE\n",
      "Replacing HIS A362 by HIE\n",
      "Replacing HIS A375 by HIE\n",
      "Replacing HIS A396 by HIE\n",
      "Replacing HIS A407 by HIE\n",
      "Replacing HIS B27 by HIE\n",
      "Replacing HIS B94 by HIE\n",
      "Replacing HIS B166 by HIE\n",
      "Updating partial charges and atom types\n",
      "Warning: OXT atom missing in CASP A169. Run backbone --fix_atoms first\n",
      "Total assigned charge:      -8.22\n"
     ]
    }
   ],
   "source": [
    "opts = {\n",
    "    'add_mode':'auto',\n",
    "    'add_charges': 'ADT'\n",
    "}\n",
    "\n",
    "structure.add_hydrogen(opts)\n",
    "\n",
    "#structure.add_hydrogen('--add_mode auto --add_charges ADT')"
   ]
  },
  {
   "cell_type": "code",
   "execution_count": 29,
   "metadata": {},
   "outputs": [
    {
     "data": {
      "text/plain": [
       "'6axg.pdbqt'"
      ]
     },
     "execution_count": 29,
     "metadata": {},
     "output_type": "execute_result"
    }
   ],
   "source": [
    "structure.save_structure('6axg.pdbqt')"
   ]
  },
  {
   "cell_type": "code",
   "execution_count": null,
   "metadata": {},
   "outputs": [],
   "source": []
  }
 ],
 "metadata": {
  "kernelspec": {
   "display_name": "Python 3 (ipykernel)",
   "language": "python",
   "name": "python3"
  },
  "language_info": {
   "codemirror_mode": {
    "name": "ipython",
    "version": 3
   },
   "file_extension": ".py",
   "mimetype": "text/x-python",
   "name": "python",
   "nbconvert_exporter": "python",
   "pygments_lexer": "ipython3",
   "version": "3.7.6"
  }
 },
 "nbformat": 4,
 "nbformat_minor": 2
}
